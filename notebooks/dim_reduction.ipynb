{
 "cells": [
  {
   "cell_type": "code",
   "execution_count": 3,
   "metadata": {},
   "outputs": [],
   "source": [
    "import pandas as pd\n",
    "import numpy as np\n",
    "import torch\n",
    "import tqdm"
   ]
  },
  {
   "cell_type": "code",
   "execution_count": 4,
   "metadata": {},
   "outputs": [
    {
     "name": "stderr",
     "output_type": "stream",
     "text": [
      " 31%|███       | 76/249 [00:01<00:03, 55.08it/s]"
     ]
    },
    {
     "name": "stdout",
     "output_type": "stream",
     "text": [
      "skeeping file 1439\n"
     ]
    },
    {
     "name": "stderr",
     "output_type": "stream",
     "text": [
      " 82%|████████▏ | 203/249 [00:04<00:00, 48.45it/s]"
     ]
    },
    {
     "name": "stdout",
     "output_type": "stream",
     "text": [
      "skeeping file 3979\n"
     ]
    },
    {
     "name": "stderr",
     "output_type": "stream",
     "text": [
      " 96%|█████████▋| 240/249 [00:04<00:00, 46.06it/s]"
     ]
    },
    {
     "name": "stdout",
     "output_type": "stream",
     "text": [
      "skeeping file 4659\n",
      "skeeping file 4699\n"
     ]
    },
    {
     "name": "stderr",
     "output_type": "stream",
     "text": [
      "100%|██████████| 249/249 [00:05<00:00, 49.74it/s]"
     ]
    },
    {
     "name": "stdout",
     "output_type": "stream",
     "text": [
      "(120311, 8)\n",
      "(120311,)\n"
     ]
    },
    {
     "name": "stderr",
     "output_type": "stream",
     "text": [
      "\n"
     ]
    }
   ],
   "source": [
    "#reading all the files\n",
    "\n",
    "#reading the first file\n",
    "df = pd.read_csv('../src/outputs/run_history_19.csv', sep=';', index_col=0)\n",
    "df_emb = pd.read_csv('../src/outputs/run_history_emb_idx_19.csv', sep=';', index_col=0)\n",
    "np_emb_state = np.load('../src/outputs/emb_states_19.npy', allow_pickle=True)\n",
    "np_emb_next_state = np.load('../src/outputs/next_states_19.npy', allow_pickle=True)\n",
    "\n",
    "skeeped_files = []\n",
    "#adding all the others\n",
    "list1 = list(range(39, 5000, 20))\n",
    "for i in tqdm.tqdm(list1):\n",
    "    s1 = '../src/outputs/run_history_' + str(i) + '.csv'\n",
    "    df_ = pd.read_csv(s1, sep=';', index_col=0)\n",
    "    s2 = '../src/outputs/emb_states_' + str(i) + '.npy'\n",
    "    np_emb_state_ = np.load(s2, allow_pickle=True)\n",
    "    if np_emb_state_.shape[0] != df_.shape[0]:\n",
    "        print ('skeeping file %d' %i)\n",
    "        skeeped_files.append(s1)\n",
    "        skeeped_files.append(s2)\n",
    "    else:\n",
    "        df = pd.concat([df,df_], axis=0)\n",
    "        np_emb_state = np.concatenate((np_emb_state, np_emb_state_))\n",
    "        \n",
    "print(df.shape)\n",
    "print(np_emb_state.shape)"
   ]
  },
  {
   "cell_type": "code",
   "execution_count": 7,
   "metadata": {},
   "outputs": [
    {
     "data": {
      "text/plain": [
       "(768,)"
      ]
     },
     "execution_count": 7,
     "metadata": {},
     "output_type": "execute_result"
    }
   ],
   "source": [
    "np_emb_state[0].shape"
   ]
  },
  {
   "cell_type": "code",
   "execution_count": 10,
   "metadata": {},
   "outputs": [],
   "source": [
    "np_emb_state_float = [x.astype(np.float64) for x in np_emb_state]"
   ]
  },
  {
   "cell_type": "code",
   "execution_count": 18,
   "metadata": {},
   "outputs": [],
   "source": [
    "from torch.utils.data import TensorDataset, DataLoader\n",
    "\n",
    "tensor_emb = torch.Tensor(np.array(np_emb_state_float)) \n",
    "dataset = TensorDataset(tensor_emb) \n",
    "loader = DataLoader(dataset, batch_size = 64,\n",
    "   shuffle = True)\n"
   ]
  },
  {
   "cell_type": "code",
   "execution_count": 26,
   "metadata": {},
   "outputs": [
    {
     "name": "stdout",
     "output_type": "stream",
     "text": [
      "torch.Size([64, 768])\n"
     ]
    }
   ],
   "source": [
    "for emb in loader:\n",
    "    print(emb[0].size())\n",
    "    break"
   ]
  },
  {
   "cell_type": "code",
   "execution_count": 30,
   "metadata": {},
   "outputs": [],
   "source": [
    "class Autoenc(torch.nn.Module):\n",
    "   def __init__(self):\n",
    "      super().__init__()\n",
    "\n",
    "      self.encoder = torch.nn.Sequential(\n",
    "         torch.nn.Linear(768, 512),\n",
    "         torch.nn.ReLU(),\n",
    "         torch.nn.Linear(512, 256),\n",
    "         torch.nn.ReLU(),\n",
    "         torch.nn.Linear(256, 128),\n",
    "         torch.nn.ReLU(),\n",
    "         torch.nn.Linear(128, 64),\n",
    "      )\n",
    "\n",
    "      self.decoder = torch.nn.Sequential(\n",
    "         torch.nn.Linear(64, 128),\n",
    "         torch.nn.ReLU(),\n",
    "         torch.nn.Linear(128, 256),\n",
    "         torch.nn.ReLU(),\n",
    "         torch.nn.Linear(256, 512),\n",
    "         torch.nn.ReLU(),\n",
    "         torch.nn.Linear(512, 768)\n",
    "      )\n",
    "   def forward(self, x):\n",
    "      encoded = self.encoder(x)\n",
    "      decoded = self.decoder(encoded)\n",
    "      return decoded"
   ]
  },
  {
   "cell_type": "code",
   "execution_count": 31,
   "metadata": {},
   "outputs": [],
   "source": [
    "model = Autoenc()\n",
    "loss_function = torch.nn.MSELoss()\n",
    "optimizer = torch.optim.Adam(model.parameters(), lr = 1e-1, weight_decay = 1e8)"
   ]
  },
  {
   "cell_type": "code",
   "execution_count": 32,
   "metadata": {},
   "outputs": [
    {
     "name": "stderr",
     "output_type": "stream",
     "text": [
      "  0%|          | 0/10 [00:00<?, ?it/s]"
     ]
    },
    {
     "name": "stdout",
     "output_type": "stream",
     "text": [
      "tensor(0.1821, grad_fn=<MseLossBackward0>)\n",
      "tensor(0.1791, grad_fn=<MseLossBackward0>)\n",
      "tensor(0.1891, grad_fn=<MseLossBackward0>)\n",
      "tensor(0.1853, grad_fn=<MseLossBackward0>)\n",
      "tensor(0.1842, grad_fn=<MseLossBackward0>)\n",
      "tensor(0.1850, grad_fn=<MseLossBackward0>)\n",
      "tensor(0.1831, grad_fn=<MseLossBackward0>)\n",
      "tensor(0.1818, grad_fn=<MseLossBackward0>)\n",
      "tensor(0.1829, grad_fn=<MseLossBackward0>)\n",
      "tensor(0.1792, grad_fn=<MseLossBackward0>)\n",
      "tensor(0.1849, grad_fn=<MseLossBackward0>)\n",
      "tensor(0.1820, grad_fn=<MseLossBackward0>)\n",
      "tensor(0.1832, grad_fn=<MseLossBackward0>)\n",
      "tensor(0.1819, grad_fn=<MseLossBackward0>)\n",
      "tensor(0.1826, grad_fn=<MseLossBackward0>)\n",
      "tensor(0.1832, grad_fn=<MseLossBackward0>)\n",
      "tensor(0.1834, grad_fn=<MseLossBackward0>)\n",
      "tensor(0.1800, grad_fn=<MseLossBackward0>)\n"
     ]
    },
    {
     "name": "stderr",
     "output_type": "stream",
     "text": [
      " 10%|█         | 1/10 [00:11<01:40, 11.17s/it]"
     ]
    },
    {
     "name": "stdout",
     "output_type": "stream",
     "text": [
      "tensor(0.1829, grad_fn=<MseLossBackward0>)\n",
      "tensor(0.1866, grad_fn=<MseLossBackward0>)\n",
      "tensor(0.1856, grad_fn=<MseLossBackward0>)\n",
      "tensor(0.1797, grad_fn=<MseLossBackward0>)\n",
      "tensor(0.1792, grad_fn=<MseLossBackward0>)\n",
      "tensor(0.1844, grad_fn=<MseLossBackward0>)\n",
      "tensor(0.1855, grad_fn=<MseLossBackward0>)\n",
      "tensor(0.1824, grad_fn=<MseLossBackward0>)\n",
      "tensor(0.1832, grad_fn=<MseLossBackward0>)\n",
      "tensor(0.1834, grad_fn=<MseLossBackward0>)\n",
      "tensor(0.1848, grad_fn=<MseLossBackward0>)\n",
      "tensor(0.1836, grad_fn=<MseLossBackward0>)\n",
      "tensor(0.1836, grad_fn=<MseLossBackward0>)\n",
      "tensor(0.1838, grad_fn=<MseLossBackward0>)\n",
      "tensor(0.1847, grad_fn=<MseLossBackward0>)\n",
      "tensor(0.1859, grad_fn=<MseLossBackward0>)\n",
      "tensor(0.1847, grad_fn=<MseLossBackward0>)\n",
      "tensor(0.1828, grad_fn=<MseLossBackward0>)\n"
     ]
    },
    {
     "name": "stderr",
     "output_type": "stream",
     "text": [
      " 20%|██        | 2/10 [00:20<01:21, 10.21s/it]"
     ]
    },
    {
     "name": "stdout",
     "output_type": "stream",
     "text": [
      "tensor(0.1849, grad_fn=<MseLossBackward0>)\n",
      "tensor(0.1815, grad_fn=<MseLossBackward0>)\n",
      "tensor(0.1843, grad_fn=<MseLossBackward0>)\n",
      "tensor(0.1828, grad_fn=<MseLossBackward0>)\n",
      "tensor(0.1799, grad_fn=<MseLossBackward0>)\n",
      "tensor(0.1840, grad_fn=<MseLossBackward0>)\n",
      "tensor(0.1855, grad_fn=<MseLossBackward0>)\n",
      "tensor(0.1846, grad_fn=<MseLossBackward0>)\n",
      "tensor(0.1830, grad_fn=<MseLossBackward0>)\n",
      "tensor(0.1852, grad_fn=<MseLossBackward0>)\n",
      "tensor(0.1857, grad_fn=<MseLossBackward0>)\n",
      "tensor(0.1859, grad_fn=<MseLossBackward0>)\n",
      "tensor(0.1824, grad_fn=<MseLossBackward0>)\n",
      "tensor(0.1811, grad_fn=<MseLossBackward0>)\n",
      "tensor(0.1845, grad_fn=<MseLossBackward0>)\n",
      "tensor(0.1798, grad_fn=<MseLossBackward0>)\n",
      "tensor(0.1864, grad_fn=<MseLossBackward0>)\n",
      "tensor(0.1842, grad_fn=<MseLossBackward0>)\n"
     ]
    },
    {
     "name": "stderr",
     "output_type": "stream",
     "text": [
      " 30%|███       | 3/10 [00:30<01:09,  9.90s/it]"
     ]
    },
    {
     "name": "stdout",
     "output_type": "stream",
     "text": [
      "tensor(0.1852, grad_fn=<MseLossBackward0>)\n",
      "tensor(0.1826, grad_fn=<MseLossBackward0>)\n",
      "tensor(0.1864, grad_fn=<MseLossBackward0>)\n",
      "tensor(0.1891, grad_fn=<MseLossBackward0>)\n",
      "tensor(0.1820, grad_fn=<MseLossBackward0>)\n",
      "tensor(0.1825, grad_fn=<MseLossBackward0>)\n",
      "tensor(0.1852, grad_fn=<MseLossBackward0>)\n",
      "tensor(0.1842, grad_fn=<MseLossBackward0>)\n",
      "tensor(0.1817, grad_fn=<MseLossBackward0>)\n",
      "tensor(0.1831, grad_fn=<MseLossBackward0>)\n",
      "tensor(0.1823, grad_fn=<MseLossBackward0>)\n",
      "tensor(0.1824, grad_fn=<MseLossBackward0>)\n",
      "tensor(0.1827, grad_fn=<MseLossBackward0>)\n",
      "tensor(0.1859, grad_fn=<MseLossBackward0>)\n",
      "tensor(0.1837, grad_fn=<MseLossBackward0>)\n",
      "tensor(0.1833, grad_fn=<MseLossBackward0>)\n",
      "tensor(0.1834, grad_fn=<MseLossBackward0>)\n",
      "tensor(0.1803, grad_fn=<MseLossBackward0>)\n"
     ]
    },
    {
     "name": "stderr",
     "output_type": "stream",
     "text": [
      " 40%|████      | 4/10 [00:39<00:56,  9.45s/it]"
     ]
    },
    {
     "name": "stdout",
     "output_type": "stream",
     "text": [
      "tensor(0.1849, grad_fn=<MseLossBackward0>)\n",
      "tensor(0.1836, grad_fn=<MseLossBackward0>)\n",
      "tensor(0.1845, grad_fn=<MseLossBackward0>)\n",
      "tensor(0.1807, grad_fn=<MseLossBackward0>)\n",
      "tensor(0.1829, grad_fn=<MseLossBackward0>)\n",
      "tensor(0.1826, grad_fn=<MseLossBackward0>)\n",
      "tensor(0.1810, grad_fn=<MseLossBackward0>)\n",
      "tensor(0.1837, grad_fn=<MseLossBackward0>)\n",
      "tensor(0.1834, grad_fn=<MseLossBackward0>)\n",
      "tensor(0.1830, grad_fn=<MseLossBackward0>)\n",
      "tensor(0.1817, grad_fn=<MseLossBackward0>)\n",
      "tensor(0.1853, grad_fn=<MseLossBackward0>)\n",
      "tensor(0.1794, grad_fn=<MseLossBackward0>)\n",
      "tensor(0.1836, grad_fn=<MseLossBackward0>)\n",
      "tensor(0.1840, grad_fn=<MseLossBackward0>)\n",
      "tensor(0.1855, grad_fn=<MseLossBackward0>)\n",
      "tensor(0.1816, grad_fn=<MseLossBackward0>)\n",
      "tensor(0.1850, grad_fn=<MseLossBackward0>)\n"
     ]
    },
    {
     "name": "stderr",
     "output_type": "stream",
     "text": [
      " 50%|█████     | 5/10 [00:47<00:45,  9.12s/it]"
     ]
    },
    {
     "name": "stdout",
     "output_type": "stream",
     "text": [
      "tensor(0.1822, grad_fn=<MseLossBackward0>)\n",
      "tensor(0.1837, grad_fn=<MseLossBackward0>)\n",
      "tensor(0.1848, grad_fn=<MseLossBackward0>)\n",
      "tensor(0.1850, grad_fn=<MseLossBackward0>)\n",
      "tensor(0.1839, grad_fn=<MseLossBackward0>)\n",
      "tensor(0.1824, grad_fn=<MseLossBackward0>)\n",
      "tensor(0.1804, grad_fn=<MseLossBackward0>)\n",
      "tensor(0.1925, grad_fn=<MseLossBackward0>)\n",
      "tensor(0.1852, grad_fn=<MseLossBackward0>)\n",
      "tensor(0.1837, grad_fn=<MseLossBackward0>)\n",
      "tensor(0.1824, grad_fn=<MseLossBackward0>)\n",
      "tensor(0.1839, grad_fn=<MseLossBackward0>)\n",
      "tensor(0.1851, grad_fn=<MseLossBackward0>)\n",
      "tensor(0.1834, grad_fn=<MseLossBackward0>)\n",
      "tensor(0.1812, grad_fn=<MseLossBackward0>)\n",
      "tensor(0.1810, grad_fn=<MseLossBackward0>)\n",
      "tensor(0.1827, grad_fn=<MseLossBackward0>)\n",
      "tensor(0.1802, grad_fn=<MseLossBackward0>)\n"
     ]
    },
    {
     "name": "stderr",
     "output_type": "stream",
     "text": [
      " 60%|██████    | 6/10 [00:55<00:35,  8.89s/it]"
     ]
    },
    {
     "name": "stdout",
     "output_type": "stream",
     "text": [
      "tensor(0.1841, grad_fn=<MseLossBackward0>)\n",
      "tensor(0.1854, grad_fn=<MseLossBackward0>)\n",
      "tensor(0.1832, grad_fn=<MseLossBackward0>)\n",
      "tensor(0.1857, grad_fn=<MseLossBackward0>)\n",
      "tensor(0.1860, grad_fn=<MseLossBackward0>)\n",
      "tensor(0.1851, grad_fn=<MseLossBackward0>)\n",
      "tensor(0.1805, grad_fn=<MseLossBackward0>)\n",
      "tensor(0.1868, grad_fn=<MseLossBackward0>)\n",
      "tensor(0.1839, grad_fn=<MseLossBackward0>)\n",
      "tensor(0.1822, grad_fn=<MseLossBackward0>)\n",
      "tensor(0.1834, grad_fn=<MseLossBackward0>)\n",
      "tensor(0.1857, grad_fn=<MseLossBackward0>)\n",
      "tensor(0.1844, grad_fn=<MseLossBackward0>)\n",
      "tensor(0.1825, grad_fn=<MseLossBackward0>)\n",
      "tensor(0.1817, grad_fn=<MseLossBackward0>)\n",
      "tensor(0.1865, grad_fn=<MseLossBackward0>)\n",
      "tensor(0.1822, grad_fn=<MseLossBackward0>)\n",
      "tensor(0.1832, grad_fn=<MseLossBackward0>)\n"
     ]
    },
    {
     "name": "stderr",
     "output_type": "stream",
     "text": [
      " 70%|███████   | 7/10 [01:04<00:26,  8.84s/it]"
     ]
    },
    {
     "name": "stdout",
     "output_type": "stream",
     "text": [
      "tensor(0.1821, grad_fn=<MseLossBackward0>)\n",
      "tensor(0.1858, grad_fn=<MseLossBackward0>)\n",
      "tensor(0.1818, grad_fn=<MseLossBackward0>)\n",
      "tensor(0.1832, grad_fn=<MseLossBackward0>)\n",
      "tensor(0.1892, grad_fn=<MseLossBackward0>)\n",
      "tensor(0.1824, grad_fn=<MseLossBackward0>)\n",
      "tensor(0.1833, grad_fn=<MseLossBackward0>)\n",
      "tensor(0.1821, grad_fn=<MseLossBackward0>)\n",
      "tensor(0.1836, grad_fn=<MseLossBackward0>)\n",
      "tensor(0.1836, grad_fn=<MseLossBackward0>)\n",
      "tensor(0.1816, grad_fn=<MseLossBackward0>)\n",
      "tensor(0.1810, grad_fn=<MseLossBackward0>)\n",
      "tensor(0.1876, grad_fn=<MseLossBackward0>)\n",
      "tensor(0.1830, grad_fn=<MseLossBackward0>)\n",
      "tensor(0.1825, grad_fn=<MseLossBackward0>)\n",
      "tensor(0.1832, grad_fn=<MseLossBackward0>)\n",
      "tensor(0.1843, grad_fn=<MseLossBackward0>)\n",
      "tensor(0.1823, grad_fn=<MseLossBackward0>)\n"
     ]
    },
    {
     "name": "stderr",
     "output_type": "stream",
     "text": [
      " 80%|████████  | 8/10 [01:13<00:17,  8.90s/it]"
     ]
    },
    {
     "name": "stdout",
     "output_type": "stream",
     "text": [
      "tensor(0.1860, grad_fn=<MseLossBackward0>)\n",
      "tensor(0.1841, grad_fn=<MseLossBackward0>)\n",
      "tensor(0.1820, grad_fn=<MseLossBackward0>)\n",
      "tensor(0.1827, grad_fn=<MseLossBackward0>)\n",
      "tensor(0.1844, grad_fn=<MseLossBackward0>)\n",
      "tensor(0.1839, grad_fn=<MseLossBackward0>)\n",
      "tensor(0.1822, grad_fn=<MseLossBackward0>)\n",
      "tensor(0.1834, grad_fn=<MseLossBackward0>)\n",
      "tensor(0.1800, grad_fn=<MseLossBackward0>)\n",
      "tensor(0.1840, grad_fn=<MseLossBackward0>)\n",
      "tensor(0.1856, grad_fn=<MseLossBackward0>)\n",
      "tensor(0.1865, grad_fn=<MseLossBackward0>)\n",
      "tensor(0.1818, grad_fn=<MseLossBackward0>)\n",
      "tensor(0.1826, grad_fn=<MseLossBackward0>)\n",
      "tensor(0.1844, grad_fn=<MseLossBackward0>)\n",
      "tensor(0.1839, grad_fn=<MseLossBackward0>)\n",
      "tensor(0.1836, grad_fn=<MseLossBackward0>)\n",
      "tensor(0.1803, grad_fn=<MseLossBackward0>)\n"
     ]
    },
    {
     "name": "stderr",
     "output_type": "stream",
     "text": [
      " 90%|█████████ | 9/10 [01:22<00:08,  8.86s/it]"
     ]
    },
    {
     "name": "stdout",
     "output_type": "stream",
     "text": [
      "tensor(0.1830, grad_fn=<MseLossBackward0>)\n",
      "tensor(0.1838, grad_fn=<MseLossBackward0>)\n",
      "tensor(0.1870, grad_fn=<MseLossBackward0>)\n",
      "tensor(0.1842, grad_fn=<MseLossBackward0>)\n",
      "tensor(0.1811, grad_fn=<MseLossBackward0>)\n",
      "tensor(0.1858, grad_fn=<MseLossBackward0>)\n",
      "tensor(0.1831, grad_fn=<MseLossBackward0>)\n",
      "tensor(0.1795, grad_fn=<MseLossBackward0>)\n",
      "tensor(0.1842, grad_fn=<MseLossBackward0>)\n",
      "tensor(0.1851, grad_fn=<MseLossBackward0>)\n",
      "tensor(0.1872, grad_fn=<MseLossBackward0>)\n",
      "tensor(0.1853, grad_fn=<MseLossBackward0>)\n",
      "tensor(0.1828, grad_fn=<MseLossBackward0>)\n",
      "tensor(0.1853, grad_fn=<MseLossBackward0>)\n",
      "tensor(0.1804, grad_fn=<MseLossBackward0>)\n",
      "tensor(0.1861, grad_fn=<MseLossBackward0>)\n",
      "tensor(0.1812, grad_fn=<MseLossBackward0>)\n",
      "tensor(0.1852, grad_fn=<MseLossBackward0>)\n"
     ]
    },
    {
     "name": "stderr",
     "output_type": "stream",
     "text": [
      "100%|██████████| 10/10 [01:30<00:00,  9.10s/it]\n"
     ]
    },
    {
     "ename": "RuntimeError",
     "evalue": "Can't call numpy() on Tensor that requires grad. Use tensor.detach().numpy() instead.",
     "output_type": "error",
     "traceback": [
      "\u001b[0;31m---------------------------------------------------------------------------\u001b[0m",
      "\u001b[0;31mRuntimeError\u001b[0m                              Traceback (most recent call last)",
      "Cell \u001b[0;32mIn[32], line 26\u001b[0m\n\u001b[1;32m     24\u001b[0m plt\u001b[39m.\u001b[39mxlabel(\u001b[39m'\u001b[39m\u001b[39mIterations\u001b[39m\u001b[39m'\u001b[39m)\n\u001b[1;32m     25\u001b[0m plt\u001b[39m.\u001b[39mylabel(\u001b[39m'\u001b[39m\u001b[39mLoss\u001b[39m\u001b[39m'\u001b[39m)\n\u001b[0;32m---> 26\u001b[0m plt\u001b[39m.\u001b[39;49mplot(losses[\u001b[39m-\u001b[39;49m\u001b[39m100\u001b[39;49m:])\n",
      "File \u001b[0;32m~/miniforge3/envs/causalscm/lib/python3.11/site-packages/matplotlib/pyplot.py:2812\u001b[0m, in \u001b[0;36mplot\u001b[0;34m(scalex, scaley, data, *args, **kwargs)\u001b[0m\n\u001b[1;32m   2810\u001b[0m \u001b[39m@_copy_docstring_and_deprecators\u001b[39m(Axes\u001b[39m.\u001b[39mplot)\n\u001b[1;32m   2811\u001b[0m \u001b[39mdef\u001b[39;00m \u001b[39mplot\u001b[39m(\u001b[39m*\u001b[39margs, scalex\u001b[39m=\u001b[39m\u001b[39mTrue\u001b[39;00m, scaley\u001b[39m=\u001b[39m\u001b[39mTrue\u001b[39;00m, data\u001b[39m=\u001b[39m\u001b[39mNone\u001b[39;00m, \u001b[39m*\u001b[39m\u001b[39m*\u001b[39mkwargs):\n\u001b[0;32m-> 2812\u001b[0m     \u001b[39mreturn\u001b[39;00m gca()\u001b[39m.\u001b[39;49mplot(\n\u001b[1;32m   2813\u001b[0m         \u001b[39m*\u001b[39;49margs, scalex\u001b[39m=\u001b[39;49mscalex, scaley\u001b[39m=\u001b[39;49mscaley,\n\u001b[1;32m   2814\u001b[0m         \u001b[39m*\u001b[39;49m\u001b[39m*\u001b[39;49m({\u001b[39m\"\u001b[39;49m\u001b[39mdata\u001b[39;49m\u001b[39m\"\u001b[39;49m: data} \u001b[39mif\u001b[39;49;00m data \u001b[39mis\u001b[39;49;00m \u001b[39mnot\u001b[39;49;00m \u001b[39mNone\u001b[39;49;00m \u001b[39melse\u001b[39;49;00m {}), \u001b[39m*\u001b[39;49m\u001b[39m*\u001b[39;49mkwargs)\n",
      "File \u001b[0;32m~/miniforge3/envs/causalscm/lib/python3.11/site-packages/matplotlib/axes/_axes.py:1688\u001b[0m, in \u001b[0;36mAxes.plot\u001b[0;34m(self, scalex, scaley, data, *args, **kwargs)\u001b[0m\n\u001b[1;32m   1445\u001b[0m \u001b[39m\u001b[39m\u001b[39m\"\"\"\u001b[39;00m\n\u001b[1;32m   1446\u001b[0m \u001b[39mPlot y versus x as lines and/or markers.\u001b[39;00m\n\u001b[1;32m   1447\u001b[0m \n\u001b[0;32m   (...)\u001b[0m\n\u001b[1;32m   1685\u001b[0m \u001b[39m(``'green'``) or hex strings (``'#008000'``).\u001b[39;00m\n\u001b[1;32m   1686\u001b[0m \u001b[39m\"\"\"\u001b[39;00m\n\u001b[1;32m   1687\u001b[0m kwargs \u001b[39m=\u001b[39m cbook\u001b[39m.\u001b[39mnormalize_kwargs(kwargs, mlines\u001b[39m.\u001b[39mLine2D)\n\u001b[0;32m-> 1688\u001b[0m lines \u001b[39m=\u001b[39m [\u001b[39m*\u001b[39m\u001b[39mself\u001b[39m\u001b[39m.\u001b[39m_get_lines(\u001b[39m*\u001b[39margs, data\u001b[39m=\u001b[39mdata, \u001b[39m*\u001b[39m\u001b[39m*\u001b[39mkwargs)]\n\u001b[1;32m   1689\u001b[0m \u001b[39mfor\u001b[39;00m line \u001b[39min\u001b[39;00m lines:\n\u001b[1;32m   1690\u001b[0m     \u001b[39mself\u001b[39m\u001b[39m.\u001b[39madd_line(line)\n",
      "File \u001b[0;32m~/miniforge3/envs/causalscm/lib/python3.11/site-packages/matplotlib/axes/_base.py:311\u001b[0m, in \u001b[0;36m_process_plot_var_args.__call__\u001b[0;34m(self, data, *args, **kwargs)\u001b[0m\n\u001b[1;32m    309\u001b[0m     this \u001b[39m+\u001b[39m\u001b[39m=\u001b[39m args[\u001b[39m0\u001b[39m],\n\u001b[1;32m    310\u001b[0m     args \u001b[39m=\u001b[39m args[\u001b[39m1\u001b[39m:]\n\u001b[0;32m--> 311\u001b[0m \u001b[39myield from\u001b[39;00m \u001b[39mself\u001b[39;49m\u001b[39m.\u001b[39;49m_plot_args(\n\u001b[1;32m    312\u001b[0m     this, kwargs, ambiguous_fmt_datakey\u001b[39m=\u001b[39;49mambiguous_fmt_datakey)\n",
      "File \u001b[0;32m~/miniforge3/envs/causalscm/lib/python3.11/site-packages/matplotlib/axes/_base.py:496\u001b[0m, in \u001b[0;36m_process_plot_var_args._plot_args\u001b[0;34m(self, tup, kwargs, return_kwargs, ambiguous_fmt_datakey)\u001b[0m\n\u001b[1;32m    494\u001b[0m     y \u001b[39m=\u001b[39m _check_1d(xy[\u001b[39m1\u001b[39m])\n\u001b[1;32m    495\u001b[0m \u001b[39melse\u001b[39;00m:\n\u001b[0;32m--> 496\u001b[0m     x, y \u001b[39m=\u001b[39m index_of(xy[\u001b[39m-\u001b[39;49m\u001b[39m1\u001b[39;49m])\n\u001b[1;32m    498\u001b[0m \u001b[39mif\u001b[39;00m \u001b[39mself\u001b[39m\u001b[39m.\u001b[39maxes\u001b[39m.\u001b[39mxaxis \u001b[39mis\u001b[39;00m \u001b[39mnot\u001b[39;00m \u001b[39mNone\u001b[39;00m:\n\u001b[1;32m    499\u001b[0m     \u001b[39mself\u001b[39m\u001b[39m.\u001b[39maxes\u001b[39m.\u001b[39mxaxis\u001b[39m.\u001b[39mupdate_units(x)\n",
      "File \u001b[0;32m~/miniforge3/envs/causalscm/lib/python3.11/site-packages/matplotlib/cbook/__init__.py:1656\u001b[0m, in \u001b[0;36mindex_of\u001b[0;34m(y)\u001b[0m\n\u001b[1;32m   1654\u001b[0m     \u001b[39mpass\u001b[39;00m\n\u001b[1;32m   1655\u001b[0m \u001b[39mtry\u001b[39;00m:\n\u001b[0;32m-> 1656\u001b[0m     y \u001b[39m=\u001b[39m _check_1d(y)\n\u001b[1;32m   1657\u001b[0m \u001b[39mexcept\u001b[39;00m (np\u001b[39m.\u001b[39mVisibleDeprecationWarning, \u001b[39mValueError\u001b[39;00m):\n\u001b[1;32m   1658\u001b[0m     \u001b[39m# NumPy 1.19 will warn on ragged input, and we can't actually use it.\u001b[39;00m\n\u001b[1;32m   1659\u001b[0m     \u001b[39mpass\u001b[39;00m\n",
      "File \u001b[0;32m~/miniforge3/envs/causalscm/lib/python3.11/site-packages/matplotlib/cbook/__init__.py:1348\u001b[0m, in \u001b[0;36m_check_1d\u001b[0;34m(x)\u001b[0m\n\u001b[1;32m   1342\u001b[0m \u001b[39m# plot requires `shape` and `ndim`.  If passed an\u001b[39;00m\n\u001b[1;32m   1343\u001b[0m \u001b[39m# object that doesn't provide them, then force to numpy array.\u001b[39;00m\n\u001b[1;32m   1344\u001b[0m \u001b[39m# Note this will strip unit information.\u001b[39;00m\n\u001b[1;32m   1345\u001b[0m \u001b[39mif\u001b[39;00m (\u001b[39mnot\u001b[39;00m \u001b[39mhasattr\u001b[39m(x, \u001b[39m'\u001b[39m\u001b[39mshape\u001b[39m\u001b[39m'\u001b[39m) \u001b[39mor\u001b[39;00m\n\u001b[1;32m   1346\u001b[0m         \u001b[39mnot\u001b[39;00m \u001b[39mhasattr\u001b[39m(x, \u001b[39m'\u001b[39m\u001b[39mndim\u001b[39m\u001b[39m'\u001b[39m) \u001b[39mor\u001b[39;00m\n\u001b[1;32m   1347\u001b[0m         \u001b[39mlen\u001b[39m(x\u001b[39m.\u001b[39mshape) \u001b[39m<\u001b[39m \u001b[39m1\u001b[39m):\n\u001b[0;32m-> 1348\u001b[0m     \u001b[39mreturn\u001b[39;00m np\u001b[39m.\u001b[39;49matleast_1d(x)\n\u001b[1;32m   1349\u001b[0m \u001b[39melse\u001b[39;00m:\n\u001b[1;32m   1350\u001b[0m     \u001b[39mreturn\u001b[39;00m x\n",
      "File \u001b[0;32m<__array_function__ internals>:200\u001b[0m, in \u001b[0;36matleast_1d\u001b[0;34m(*args, **kwargs)\u001b[0m\n",
      "File \u001b[0;32m~/miniforge3/envs/causalscm/lib/python3.11/site-packages/numpy/core/shape_base.py:65\u001b[0m, in \u001b[0;36matleast_1d\u001b[0;34m(*arys)\u001b[0m\n\u001b[1;32m     63\u001b[0m res \u001b[39m=\u001b[39m []\n\u001b[1;32m     64\u001b[0m \u001b[39mfor\u001b[39;00m ary \u001b[39min\u001b[39;00m arys:\n\u001b[0;32m---> 65\u001b[0m     ary \u001b[39m=\u001b[39m asanyarray(ary)\n\u001b[1;32m     66\u001b[0m     \u001b[39mif\u001b[39;00m ary\u001b[39m.\u001b[39mndim \u001b[39m==\u001b[39m \u001b[39m0\u001b[39m:\n\u001b[1;32m     67\u001b[0m         result \u001b[39m=\u001b[39m ary\u001b[39m.\u001b[39mreshape(\u001b[39m1\u001b[39m)\n",
      "File \u001b[0;32m~/miniforge3/envs/causalscm/lib/python3.11/site-packages/torch/_tensor.py:970\u001b[0m, in \u001b[0;36mTensor.__array__\u001b[0;34m(self, dtype)\u001b[0m\n\u001b[1;32m    968\u001b[0m     \u001b[39mreturn\u001b[39;00m handle_torch_function(Tensor\u001b[39m.\u001b[39m__array__, (\u001b[39mself\u001b[39m,), \u001b[39mself\u001b[39m, dtype\u001b[39m=\u001b[39mdtype)\n\u001b[1;32m    969\u001b[0m \u001b[39mif\u001b[39;00m dtype \u001b[39mis\u001b[39;00m \u001b[39mNone\u001b[39;00m:\n\u001b[0;32m--> 970\u001b[0m     \u001b[39mreturn\u001b[39;00m \u001b[39mself\u001b[39;49m\u001b[39m.\u001b[39;49mnumpy()\n\u001b[1;32m    971\u001b[0m \u001b[39melse\u001b[39;00m:\n\u001b[1;32m    972\u001b[0m     \u001b[39mreturn\u001b[39;00m \u001b[39mself\u001b[39m\u001b[39m.\u001b[39mnumpy()\u001b[39m.\u001b[39mastype(dtype, copy\u001b[39m=\u001b[39m\u001b[39mFalse\u001b[39;00m)\n",
      "\u001b[0;31mRuntimeError\u001b[0m: Can't call numpy() on Tensor that requires grad. Use tensor.detach().numpy() instead."
     ]
    },
    {
     "data": {
      "image/png": "[encoded data removed]",
      "text/plain": [
       "<Figure size 640x480 with 1 Axes>"
      ]
     },
     "metadata": {},
     "output_type": "display_data"
    }
   ],
   "source": [
    "import matplotlib.pyplot as plt\n",
    "\n",
    "epochs = 10\n",
    "outputs = []\n",
    "losses = []\n",
    "list1 = list(range(epochs))\n",
    "\n",
    "for epoch in tqdm.tqdm(list1):\n",
    "   i = 0\n",
    "   for emb in loader:\n",
    "        i+=1\n",
    "        reconstructed = model(emb[0])\n",
    "        loss = loss_function(reconstructed, emb[0])\n",
    "        optimizer.zero_grad()\n",
    "        loss.backward()\n",
    "        optimizer.step()\n",
    "        losses.append(loss)\n",
    "        if i%100==0:\n",
    "            print(loss)\n",
    "\n",
    "        #outputs.append((epochs, emb, reconstructed))\n",
    "\n",
    "plt.style.use('fivethirtyeight')\n",
    "plt.xlabel('Iterations')\n",
    "plt.ylabel('Loss')\n",
    "plt.plot(losses[-100:])"
   ]
  },
  {
   "cell_type": "code",
   "execution_count": null,
   "metadata": {},
   "outputs": [],
   "source": [
    "plt.style.use('fivethirtyeight')\n",
    "plt.xlabel('Iterations')\n",
    "plt.ylabel('Loss')\n",
    "plt.plot(losses[-100:])"
   ]
  }
 ],
 "metadata": {
  "kernelspec": {
   "display_name": "causalscm",
   "language": "python",
   "name": "python3"
  },
  "language_info": {
   "codemirror_mode": {
    "name": "ipython",
    "version": 3
   },
   "file_extension": ".py",
   "mimetype": "text/x-python",
   "name": "python",
   "nbconvert_exporter": "python",
   "pygments_lexer": "ipython3",
   "version": "3.11.3"
  },
  "orig_nbformat": 4
 },
 "nbformat": 4,
 "nbformat_minor": 2
}
