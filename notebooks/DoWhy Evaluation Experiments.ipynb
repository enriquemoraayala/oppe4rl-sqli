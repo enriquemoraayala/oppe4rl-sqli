{
 "cells": [
  {
   "cell_type": "markdown",
   "id": "c54bac95",
   "metadata": {},
   "source": [
    "Este notebook intenta calcular el OPPE usando DoWhy"
   ]
  },
  {
   "cell_type": "code",
   "execution_count": 1,
   "id": "8a3f354e",
   "metadata": {},
   "outputs": [],
   "source": [
    "import pandas as pd\n",
    "import numpy as np\n",
    "import networkx as nx\n",
    "import dowhy\n",
    "import matplotlib as plt\n",
    "\n",
    "from dowhy import gcm\n",
    "from dowhy import CausalModel"
   ]
  },
  {
   "cell_type": "code",
   "execution_count": null,
   "id": "c1ab5321",
   "metadata": {},
   "outputs": [],
   "source": []
  }
 ],
 "metadata": {
  "kernelspec": {
   "display_name": "Causal DS",
   "language": "python",
   "name": "causalds"
  },
  "language_info": {
   "codemirror_mode": {
    "name": "ipython",
    "version": 3
   },
   "file_extension": ".py",
   "mimetype": "text/x-python",
   "name": "python",
   "nbconvert_exporter": "python",
   "pygments_lexer": "ipython3",
   "version": "3.9.16"
  }
 },
 "nbformat": 4,
 "nbformat_minor": 5
}
