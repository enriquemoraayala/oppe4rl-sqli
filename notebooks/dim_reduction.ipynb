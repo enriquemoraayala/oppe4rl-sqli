{
 "cells": [
  {
   "cell_type": "code",
   "execution_count": 3,
   "metadata": {},
   "outputs": [],
   "source": [
    "import pandas as pd\n",
    "import numpy as np\n",
    "import torch\n",
    "import tqdm"
   ]
  },
  {
   "cell_type": "code",
   "execution_count": 4,
   "metadata": {},
   "outputs": [
    {
     "name": "stderr",
     "output_type": "stream",
     "text": [
      " 31%|███       | 76/249 [00:01<00:03, 55.08it/s]"
     ]
    },
    {
     "name": "stdout",
     "output_type": "stream",
     "text": [
      "skeeping file 1439\n"
     ]
    },
    {
     "name": "stderr",
     "output_type": "stream",
     "text": [
      " 82%|████████▏ | 203/249 [00:04<00:00, 48.45it/s]"
     ]
    },
    {
     "name": "stdout",
     "output_type": "stream",
     "text": [
      "skeeping file 3979\n"
     ]
    },
    {
     "name": "stderr",
     "output_type": "stream",
     "text": [
      " 96%|█████████▋| 240/249 [00:04<00:00, 46.06it/s]"
     ]
    },
    {
     "name": "stdout",
     "output_type": "stream",
     "text": [
      "skeeping file 4659\n",
      "skeeping file 4699\n"
     ]
    },
    {
     "name": "stderr",
     "output_type": "stream",
     "text": [
      "100%|██████████| 249/249 [00:05<00:00, 49.74it/s]"
     ]
    },
    {
     "name": "stdout",
     "output_type": "stream",
     "text": [
      "(120311, 8)\n",
      "(120311,)\n"
     ]
    },
    {
     "name": "stderr",
     "output_type": "stream",
     "text": [
      "\n"
     ]
    }
   ],
   "source": [
    "#reading all the files\n",
    "\n",
    "#reading the first file\n",
    "df = pd.read_csv('../src/outputs/run_history_19.csv', sep=';', index_col=0)\n",
    "df_emb = pd.read_csv('../src/outputs/run_history_emb_idx_19.csv', sep=';', index_col=0)\n",
    "np_emb_state = np.load('../src/outputs/emb_states_19.npy', allow_pickle=True)\n",
    "np_emb_next_state = np.load('../src/outputs/next_states_19.npy', allow_pickle=True)\n",
    "\n",
    "skeeped_files = []\n",
    "#adding all the others\n",
    "list1 = list(range(39, 5000, 20))\n",
    "for i in tqdm.tqdm(list1):\n",
    "    s1 = '../src/outputs/run_history_' + str(i) + '.csv'\n",
    "    df_ = pd.read_csv(s1, sep=';', index_col=0)\n",
    "    s2 = '../src/outputs/emb_states_' + str(i) + '.npy'\n",
    "    np_emb_state_ = np.load(s2, allow_pickle=True)\n",
    "    if np_emb_state_.shape[0] != df_.shape[0]:\n",
    "        print ('skeeping file %d' %i)\n",
    "        skeeped_files.append(s1)\n",
    "        skeeped_files.append(s2)\n",
    "    else:\n",
    "        df = pd.concat([df,df_], axis=0)\n",
    "        np_emb_state = np.concatenate((np_emb_state, np_emb_state_))\n",
    "        \n",
    "print(df.shape)\n",
    "print(np_emb_state.shape)"
   ]
  },
  {
   "cell_type": "code",
   "execution_count": 7,
   "metadata": {},
   "outputs": [
    {
     "data": {
      "text/plain": [
       "(768,)"
      ]
     },
     "execution_count": 7,
     "metadata": {},
     "output_type": "execute_result"
    }
   ],
   "source": [
    "np_emb_state[0].shape"
   ]
  },
  {
   "cell_type": "code",
   "execution_count": 10,
   "metadata": {},
   "outputs": [],
   "source": [
    "np_emb_state_float = [x.astype(np.float64) for x in np_emb_state]"
   ]
  },
  {
   "cell_type": "code",
   "execution_count": 12,
   "metadata": {},
   "outputs": [],
   "source": [
    "from torch.utils.data import TensorDataset, DataLoader\n",
    "\n",
    "tensor_emb = torch.Tensor(np.array(np_emb_state_float)) \n",
    "dataset = TensorDataset(tensor_emb) \n",
    "loader = DataLoader(dataset, batch_size = 64,\n",
    "   shuffle = True)\n"
   ]
  },
  {
   "cell_type": "code",
   "execution_count": null,
   "metadata": {},
   "outputs": [],
   "source": []
  }
 ],
 "metadata": {
  "kernelspec": {
   "display_name": "causalscm",
   "language": "python",
   "name": "python3"
  },
  "language_info": {
   "codemirror_mode": {
    "name": "ipython",
    "version": 3
   },
   "file_extension": ".py",
   "mimetype": "text/x-python",
   "name": "python",
   "nbconvert_exporter": "python",
   "pygments_lexer": "ipython3",
   "version": "3.11.3"
  },
  "orig_nbformat": 4
 },
 "nbformat": 4,
 "nbformat_minor": 2
}
