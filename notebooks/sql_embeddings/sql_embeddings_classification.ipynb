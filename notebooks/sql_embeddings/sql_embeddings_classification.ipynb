{
 "cells": [
  {
   "cell_type": "code",
   "execution_count": 1,
   "metadata": {},
   "outputs": [
    {
     "data": {
      "text/plain": [
       "3994"
      ]
     },
     "execution_count": 1,
     "metadata": {},
     "output_type": "execute_result"
    }
   ],
   "source": [
    "import pandas as pd\n",
    "\n",
    "tensors_path = 'tensors/'\n",
    "data = pd.read_csv('data/final.csv')\n",
    "data.dropna(inplace=True)\n",
    "y = [float(t) for t in data['is_sql'].tolist()]\n",
    "len(y)"
   ]
  },
  {
   "cell_type": "code",
   "execution_count": 2,
   "metadata": {},
   "outputs": [],
   "source": [
    "def get_tensors(tensors_file):\n",
    "    tensors = []\n",
    "    with open(tensors_path + tensors_file, \"r\") as f:\n",
    "        for line in f:\n",
    "            tensors.append([float(t) for t in line.split('\\t')])\n",
    "    return tensors"
   ]
  },
  {
   "cell_type": "code",
   "execution_count": 4,
   "metadata": {},
   "outputs": [],
   "source": [
    "from sklearn.linear_model import LogisticRegression\n",
    "from sklearn.model_selection import train_test_split\n",
    "from sklearn.metrics import confusion_matrix, accuracy_score\n",
    "import numpy as np\n",
    "import warnings\n",
    "warnings.filterwarnings(\"ignore\")\n",
    "\n",
    "SEED = 1316"
   ]
  },
  {
   "cell_type": "markdown",
   "metadata": {},
   "source": [
    "Class 0 = natural\n",
    "\n",
    "Class 1 = SQL query\n",
    "\n",
    "Class 2 = SQL injection"
   ]
  },
  {
   "cell_type": "code",
   "execution_count": 5,
   "metadata": {},
   "outputs": [
    {
     "name": "stdout",
     "output_type": "stream",
     "text": [
      "===================\n",
      "tensors_roberta.tsv\n",
      "===================\n",
      "[[796   0   2]\n",
      " [  0 400   0]\n",
      " [  2   0 398]]\n",
      "\n",
      "Accuracy = 99.75%\n",
      "\n",
      "===============================\n",
      "tensors_finetunning_roberta.tsv\n",
      "===============================\n",
      "[[796   0   2]\n",
      " [  0 400   0]\n",
      " [  2   0 398]]\n",
      "\n",
      "Accuracy = 99.75%\n",
      "\n",
      "=============================\n",
      "tensors_tokenizer_roberta.tsv\n",
      "=============================\n",
      "[[778   4  16]\n",
      " [  4 395   1]\n",
      " [ 18   1 381]]\n",
      "\n",
      "Accuracy = 97.25%\n",
      "\n",
      "=========================================\n",
      "tensors_tokenizer_roberta_finetunning.tsv\n",
      "=========================================\n",
      "[[794   0   4]\n",
      " [  1 399   0]\n",
      " [ 22   1 377]]\n",
      "\n",
      "Accuracy = 98.25%\n",
      "\n",
      "==========================================\n",
      "tensors_tokenizer_finetunning3_roberta.tsv\n",
      "==========================================\n",
      "[[793   1   4]\n",
      " [  1 399   0]\n",
      " [ 23   0 377]]\n",
      "\n",
      "Accuracy = 98.19%\n",
      "\n"
     ]
    }
   ],
   "source": [
    "for file in [\"tensors_roberta.tsv\",\"tensors_roberta_finetunned.tsv\",\n",
    "             \"tensors_roberta_custom_tokenizer.tsv\", \"tensors_roberta_finetunned_custom_tokenizer.tsv\"]:\n",
    "\n",
    "    print(\"=\"*len(file))\n",
    "    print(file)\n",
    "    print(\"=\"*len(file))\n",
    "    \n",
    "    tensors = get_tensors(file)\n",
    "    \n",
    "    X_train, X_test, y_train, y_test = train_test_split(tensors, y, test_size=0.4, \n",
    "                                                    stratify=y, random_state=SEED)\n",
    "    \n",
    "    \n",
    "    clf = LogisticRegression(random_state=SEED).fit(X_train, y_train)\n",
    "    y_pred = clf.predict(X_test)\n",
    "    print(confusion_matrix(y_test, y_pred))\n",
    "    acc = accuracy_score(y_test, y_pred)\n",
    "    acc = round(acc*100, 2)\n",
    "    print(f\"\\nAccuracy = {acc}%\\n\")"
   ]
  }
 ],
 "metadata": {
  "kernelspec": {
   "display_name": "Python 3 (ipykernel)",
   "language": "python",
   "name": "python3"
  },
  "language_info": {
   "codemirror_mode": {
    "name": "ipython",
    "version": 3
   },
   "file_extension": ".py",
   "mimetype": "text/x-python",
   "name": "python",
   "nbconvert_exporter": "python",
   "pygments_lexer": "ipython3",
   "version": "3.10.8"
  }
 },
 "nbformat": 4,
 "nbformat_minor": 2
}
