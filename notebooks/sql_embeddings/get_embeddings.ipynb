{
 "cells": [
  {
   "cell_type": "code",
   "execution_count": 8,
   "metadata": {
    "id": "YWIKdmtbSovW"
   },
   "outputs": [],
   "source": [
    "%%capture\n",
    "!pip install datasets\n",
    "!pip install certifi"
   ]
  },
  {
   "cell_type": "code",
   "execution_count": 9,
   "metadata": {},
   "outputs": [],
   "source": [
    "import matplotlib.pyplot as plt\n",
    "import seaborn as sns"
   ]
  },
  {
   "attachments": {},
   "cell_type": "markdown",
   "metadata": {
    "id": "2P2MCSstZxT3"
   },
   "source": [
    "### Get SQL queries"
   ]
  },
  {
   "cell_type": "code",
   "execution_count": 28,
   "metadata": {},
   "outputs": [
    {
     "name": "stdout",
     "output_type": "stream",
     "text": [
      " -- pip install --upgrade certifi\n",
      "Requirement already satisfied: certifi in /Users/ESMoraEn/miniforge3/envs/oppe4rl/lib/python3.10/site-packages (2023.5.7)\n",
      " -- removing any existing file or link\n",
      " -- creating symlink to certifi certificate bundle\n",
      " -- setting permissions\n",
      " -- update complete\n"
     ]
    }
   ],
   "source": [
    "import os\n",
    "import os.path\n",
    "import ssl\n",
    "import stat\n",
    "import subprocess\n",
    "import sys\n",
    "\n",
    "STAT_0o775 = ( stat.S_IRUSR | stat.S_IWUSR | stat.S_IXUSR\n",
    "             | stat.S_IRGRP | stat.S_IWGRP | stat.S_IXGRP\n",
    "             | stat.S_IROTH |                stat.S_IXOTH )\n",
    "\n",
    "\n",
    "def main():\n",
    "    openssl_dir, openssl_cafile = os.path.split(\n",
    "        ssl.get_default_verify_paths().openssl_cafile)\n",
    "\n",
    "    print(\" -- pip install --upgrade certifi\")\n",
    "    subprocess.check_call([sys.executable,\n",
    "        \"-E\", \"-s\", \"-m\", \"pip\", \"install\", \"--upgrade\", \"certifi\"])\n",
    "\n",
    "    import certifi\n",
    "\n",
    "    # change working directory to the default SSL directory\n",
    "    os.chdir(openssl_dir)\n",
    "    relpath_to_certifi_cafile = os.path.relpath(certifi.where())\n",
    "    print(\" -- removing any existing file or link\")\n",
    "    try:\n",
    "        os.remove(openssl_cafile)\n",
    "    except FileNotFoundError:\n",
    "        pass\n",
    "    print(\" -- creating symlink to certifi certificate bundle\")\n",
    "    os.symlink(relpath_to_certifi_cafile, openssl_cafile)\n",
    "    print(\" -- setting permissions\")\n",
    "    os.chmod(openssl_cafile, STAT_0o775)\n",
    "    print(\" -- update complete\")\n",
    "\n",
    "main()\n",
    "\n",
    "\n",
    "# os.environ['REQUESTS_CA_BUNDLE'] = '/Users/ESMoraEn/repositories/DigiCert TLS Hybrid ECC SHA384 2020 CA1.cer'"
   ]
  },
  {
   "cell_type": "code",
   "execution_count": 24,
   "metadata": {},
   "outputs": [],
   "source": [
    "import ssl \n",
    "ssl._create_default_https_context = ssl._create_unverified_context"
   ]
  },
  {
   "cell_type": "code",
   "execution_count": 29,
   "metadata": {
    "colab": {
     "base_uri": "https://localhost:8080/",
     "height": 238,
     "referenced_widgets": [
      "2f02f8c2400d4b67b3a070535353ed34",
      "a4b9aa53d00c42e2a062f11b89cc2a31",
      "1bbac0d601fe46a29baeda12223a2405",
      "0868580c52444bdcba78fb66ee0cf5f0",
      "0295edde49254f218c1d25376736348e",
      "0093c50ec7b64cc8b5976fde9ddf5b32",
      "597e5dde09bf4ec4aad226f8b505a119",
      "676604cb7f6b4dcdbddffef69f6d05ee",
      "635c4b80ef544613b80d8831464e6aa0",
      "e7bc394b011043099bf0b1213d2777b3",
      "ad4490bd5358422b92732ea8899a005c",
      "d92d63e1954b4ee9a11c7fd806215f26",
      "ba68154e387f4417b683c836592d55ab",
      "55497f5503a3490797776a96f55eddf1",
      "22d30397b4f648c2b8f1628cba1a6001",
      "10e8d65f70654a8a984ef4c3d5853652",
      "56b3569bae8c4081a08f916c7627f0f3",
      "2fead3f109b64409b336997f955da23d",
      "a35d4376283c4005976bf1e96bacc7a8",
      "ea18aaa92b5540b9bdc0927e8eb70593",
      "8b3e50b67cab4665831b9f45559021ac",
      "cb42a4a721cc47d480fb173ca0823bba",
      "c15143e86e764d26ad728d6422f12029",
      "18b6e8bcf62a4bf0998660167723fd52",
      "c175d88dcf154b22af2fdbec57bf439a",
      "c11f23bf333840cc830ffe5c2d45a221",
      "a44ac7ce0075441ba505e365bde3b7d4",
      "f1144cdeab91426c8274edbceb484bd7",
      "e4e686ebaaf24c2cb6fb51a46739d56c",
      "e599570f54e44b5cb6b62ad8c47a9555",
      "5dc0eea7332649189acdb1cc813545bc",
      "1c3b0fd541264271a0a531809e22a528",
      "b86f0bf6fee3428785e6129251fbe06d",
      "93c85cf8f65548b185e7808cdb138ba9",
      "bee6b33fbad04439be376820f9e6dd9f",
      "82b49a34cec84458b7ec6454ad0fd565",
      "521414147b074f739ef5cf7d50798266",
      "7215d0b887004735a2623a60900cab57",
      "80d1644c5c704aafb138ee5d093bdb6e",
      "298fe78d185f4b13850a3b646274ff91",
      "0f7c4d2908e34cd78275c5b0c07620b1",
      "5c415b7bbb9a42cdbbd378e637a03ab2",
      "184b697a45bb412eacffde6028685682",
      "3b5b240060da4bc791f530972a04c4e8",
      "afefa2a1711347a3ac6ac51375ca2815",
      "d7d949d6bc044887b9571a10579c82a8",
      "7dba7e97fc78484790626441ae36163a",
      "c290bbfecbaa477ab0343a98d68a34a4"
     ]
    },
    "id": "o5L9oFg1Td6z",
    "outputId": "0479d553-3609-4b88-c8a4-f6f1e71fe2e5"
   },
   "outputs": [
    {
     "name": "stderr",
     "output_type": "stream",
     "text": [
      "Using the latest cached version of the module from /Users/ESMoraEn/.cache/huggingface/modules/datasets_modules/datasets/wikisql/7037bfe6a42b1ca2b6ac3ccacba5253b1825d31379e9cc626fc79a620977252d (last modified on Wed Jun 14 12:10:40 2023) since it couldn't be found locally at wikisql., or remotely on the Hugging Face Hub.\n"
     ]
    },
    {
     "name": "stdout",
     "output_type": "stream",
     "text": [
      "Downloading and preparing dataset wikisql/default to /Users/ESMoraEn/.cache/huggingface/datasets/wikisql/default/0.1.0/7037bfe6a42b1ca2b6ac3ccacba5253b1825d31379e9cc626fc79a620977252d...\n"
     ]
    },
    {
     "name": "stderr",
     "output_type": "stream",
     "text": [
      "HF google storage unreachable. Downloading and preparing it from source\n"
     ]
    },
    {
     "ename": "ConnectionError",
     "evalue": "Couldn't reach https://github.com/salesforce/WikiSQL/raw/master/data.tar.bz2 (SSLError(MaxRetryError(\"HTTPSConnectionPool(host='github.com', port=443): Max retries exceeded with url: /salesforce/WikiSQL/raw/master/data.tar.bz2 (Caused by SSLError(SSLCertVerificationError(1, '[SSL: CERTIFICATE_VERIFY_FAILED] certificate verify failed: unable to get issuer certificate (_ssl.c:997)')))\")))",
     "output_type": "error",
     "traceback": [
      "\u001b[0;31m---------------------------------------------------------------------------\u001b[0m",
      "\u001b[0;31mConnectionError\u001b[0m                           Traceback (most recent call last)",
      "Cell \u001b[0;32mIn[29], line 3\u001b[0m\n\u001b[1;32m      1\u001b[0m \u001b[39mfrom\u001b[39;00m \u001b[39mdatasets\u001b[39;00m \u001b[39mimport\u001b[39;00m load_dataset\n\u001b[0;32m----> 3\u001b[0m sql \u001b[39m=\u001b[39m load_dataset(\u001b[39m'\u001b[39;49m\u001b[39mwikisql\u001b[39;49m\u001b[39m'\u001b[39;49m, split\u001b[39m=\u001b[39;49m\u001b[39m'\u001b[39;49m\u001b[39mtest\u001b[39;49m\u001b[39m'\u001b[39;49m)\n",
      "File \u001b[0;32m~/miniforge3/envs/oppe4rl/lib/python3.10/site-packages/datasets/load.py:1797\u001b[0m, in \u001b[0;36mload_dataset\u001b[0;34m(path, name, data_dir, data_files, split, cache_dir, features, download_config, download_mode, verification_mode, ignore_verifications, keep_in_memory, save_infos, revision, use_auth_token, task, streaming, num_proc, storage_options, **config_kwargs)\u001b[0m\n\u001b[1;32m   1794\u001b[0m try_from_hf_gcs \u001b[39m=\u001b[39m path \u001b[39mnot\u001b[39;00m \u001b[39min\u001b[39;00m _PACKAGED_DATASETS_MODULES\n\u001b[1;32m   1796\u001b[0m \u001b[39m# Download and prepare data\u001b[39;00m\n\u001b[0;32m-> 1797\u001b[0m builder_instance\u001b[39m.\u001b[39;49mdownload_and_prepare(\n\u001b[1;32m   1798\u001b[0m     download_config\u001b[39m=\u001b[39;49mdownload_config,\n\u001b[1;32m   1799\u001b[0m     download_mode\u001b[39m=\u001b[39;49mdownload_mode,\n\u001b[1;32m   1800\u001b[0m     verification_mode\u001b[39m=\u001b[39;49mverification_mode,\n\u001b[1;32m   1801\u001b[0m     try_from_hf_gcs\u001b[39m=\u001b[39;49mtry_from_hf_gcs,\n\u001b[1;32m   1802\u001b[0m     num_proc\u001b[39m=\u001b[39;49mnum_proc,\n\u001b[1;32m   1803\u001b[0m     storage_options\u001b[39m=\u001b[39;49mstorage_options,\n\u001b[1;32m   1804\u001b[0m )\n\u001b[1;32m   1806\u001b[0m \u001b[39m# Build dataset for splits\u001b[39;00m\n\u001b[1;32m   1807\u001b[0m keep_in_memory \u001b[39m=\u001b[39m (\n\u001b[1;32m   1808\u001b[0m     keep_in_memory \u001b[39mif\u001b[39;00m keep_in_memory \u001b[39mis\u001b[39;00m \u001b[39mnot\u001b[39;00m \u001b[39mNone\u001b[39;00m \u001b[39melse\u001b[39;00m is_small_dataset(builder_instance\u001b[39m.\u001b[39minfo\u001b[39m.\u001b[39mdataset_size)\n\u001b[1;32m   1809\u001b[0m )\n",
      "File \u001b[0;32m~/miniforge3/envs/oppe4rl/lib/python3.10/site-packages/datasets/builder.py:890\u001b[0m, in \u001b[0;36mDatasetBuilder.download_and_prepare\u001b[0;34m(self, output_dir, download_config, download_mode, verification_mode, ignore_verifications, try_from_hf_gcs, dl_manager, base_path, use_auth_token, file_format, max_shard_size, num_proc, storage_options, **download_and_prepare_kwargs)\u001b[0m\n\u001b[1;32m    888\u001b[0m     \u001b[39mif\u001b[39;00m num_proc \u001b[39mis\u001b[39;00m \u001b[39mnot\u001b[39;00m \u001b[39mNone\u001b[39;00m:\n\u001b[1;32m    889\u001b[0m         prepare_split_kwargs[\u001b[39m\"\u001b[39m\u001b[39mnum_proc\u001b[39m\u001b[39m\"\u001b[39m] \u001b[39m=\u001b[39m num_proc\n\u001b[0;32m--> 890\u001b[0m     \u001b[39mself\u001b[39;49m\u001b[39m.\u001b[39;49m_download_and_prepare(\n\u001b[1;32m    891\u001b[0m         dl_manager\u001b[39m=\u001b[39;49mdl_manager,\n\u001b[1;32m    892\u001b[0m         verification_mode\u001b[39m=\u001b[39;49mverification_mode,\n\u001b[1;32m    893\u001b[0m         \u001b[39m*\u001b[39;49m\u001b[39m*\u001b[39;49mprepare_split_kwargs,\n\u001b[1;32m    894\u001b[0m         \u001b[39m*\u001b[39;49m\u001b[39m*\u001b[39;49mdownload_and_prepare_kwargs,\n\u001b[1;32m    895\u001b[0m     )\n\u001b[1;32m    896\u001b[0m \u001b[39m# Sync info\u001b[39;00m\n\u001b[1;32m    897\u001b[0m \u001b[39mself\u001b[39m\u001b[39m.\u001b[39minfo\u001b[39m.\u001b[39mdataset_size \u001b[39m=\u001b[39m \u001b[39msum\u001b[39m(split\u001b[39m.\u001b[39mnum_bytes \u001b[39mfor\u001b[39;00m split \u001b[39min\u001b[39;00m \u001b[39mself\u001b[39m\u001b[39m.\u001b[39minfo\u001b[39m.\u001b[39msplits\u001b[39m.\u001b[39mvalues())\n",
      "File \u001b[0;32m~/miniforge3/envs/oppe4rl/lib/python3.10/site-packages/datasets/builder.py:1649\u001b[0m, in \u001b[0;36mGeneratorBasedBuilder._download_and_prepare\u001b[0;34m(self, dl_manager, verification_mode, **prepare_splits_kwargs)\u001b[0m\n\u001b[1;32m   1648\u001b[0m \u001b[39mdef\u001b[39;00m \u001b[39m_download_and_prepare\u001b[39m(\u001b[39mself\u001b[39m, dl_manager, verification_mode, \u001b[39m*\u001b[39m\u001b[39m*\u001b[39mprepare_splits_kwargs):\n\u001b[0;32m-> 1649\u001b[0m     \u001b[39msuper\u001b[39;49m()\u001b[39m.\u001b[39;49m_download_and_prepare(\n\u001b[1;32m   1650\u001b[0m         dl_manager,\n\u001b[1;32m   1651\u001b[0m         verification_mode,\n\u001b[1;32m   1652\u001b[0m         check_duplicate_keys\u001b[39m=\u001b[39;49mverification_mode \u001b[39m==\u001b[39;49m VerificationMode\u001b[39m.\u001b[39;49mBASIC_CHECKS\n\u001b[1;32m   1653\u001b[0m         \u001b[39mor\u001b[39;49;00m verification_mode \u001b[39m==\u001b[39;49m VerificationMode\u001b[39m.\u001b[39;49mALL_CHECKS,\n\u001b[1;32m   1654\u001b[0m         \u001b[39m*\u001b[39;49m\u001b[39m*\u001b[39;49mprepare_splits_kwargs,\n\u001b[1;32m   1655\u001b[0m     )\n",
      "File \u001b[0;32m~/miniforge3/envs/oppe4rl/lib/python3.10/site-packages/datasets/builder.py:963\u001b[0m, in \u001b[0;36mDatasetBuilder._download_and_prepare\u001b[0;34m(self, dl_manager, verification_mode, **prepare_split_kwargs)\u001b[0m\n\u001b[1;32m    961\u001b[0m split_dict \u001b[39m=\u001b[39m SplitDict(dataset_name\u001b[39m=\u001b[39m\u001b[39mself\u001b[39m\u001b[39m.\u001b[39mname)\n\u001b[1;32m    962\u001b[0m split_generators_kwargs \u001b[39m=\u001b[39m \u001b[39mself\u001b[39m\u001b[39m.\u001b[39m_make_split_generators_kwargs(prepare_split_kwargs)\n\u001b[0;32m--> 963\u001b[0m split_generators \u001b[39m=\u001b[39m \u001b[39mself\u001b[39;49m\u001b[39m.\u001b[39;49m_split_generators(dl_manager, \u001b[39m*\u001b[39;49m\u001b[39m*\u001b[39;49msplit_generators_kwargs)\n\u001b[1;32m    965\u001b[0m \u001b[39m# Checksums verification\u001b[39;00m\n\u001b[1;32m    966\u001b[0m \u001b[39mif\u001b[39;00m verification_mode \u001b[39m==\u001b[39m VerificationMode\u001b[39m.\u001b[39mALL_CHECKS \u001b[39mand\u001b[39;00m dl_manager\u001b[39m.\u001b[39mrecord_checksums:\n",
      "File \u001b[0;32m~/.cache/huggingface/modules/datasets_modules/datasets/wikisql/7037bfe6a42b1ca2b6ac3ccacba5253b1825d31379e9cc626fc79a620977252d/wikisql.py:81\u001b[0m, in \u001b[0;36mWikiSQL._split_generators\u001b[0;34m(self, dl_manager)\u001b[0m\n\u001b[1;32m     79\u001b[0m \u001b[39mdef\u001b[39;00m \u001b[39m_split_generators\u001b[39m(\u001b[39mself\u001b[39m, dl_manager):\n\u001b[1;32m     80\u001b[0m \u001b[39m    \u001b[39m\u001b[39m\"\"\"Returns SplitGenerators.\"\"\"\u001b[39;00m\n\u001b[0;32m---> 81\u001b[0m     dl_dir \u001b[39m=\u001b[39m dl_manager\u001b[39m.\u001b[39;49mdownload_and_extract(_DATA_URL)\n\u001b[1;32m     82\u001b[0m     dl_dir \u001b[39m=\u001b[39m os\u001b[39m.\u001b[39mpath\u001b[39m.\u001b[39mjoin(dl_dir, \u001b[39m\"\u001b[39m\u001b[39mdata\u001b[39m\u001b[39m\"\u001b[39m)\n\u001b[1;32m     84\u001b[0m     \u001b[39mreturn\u001b[39;00m [\n\u001b[1;32m     85\u001b[0m         datasets\u001b[39m.\u001b[39mSplitGenerator(\n\u001b[1;32m     86\u001b[0m             name\u001b[39m=\u001b[39mdatasets\u001b[39m.\u001b[39mSplit\u001b[39m.\u001b[39mTEST,\n\u001b[0;32m   (...)\u001b[0m\n\u001b[1;32m    105\u001b[0m         ),\n\u001b[1;32m    106\u001b[0m     ]\n",
      "File \u001b[0;32m~/miniforge3/envs/oppe4rl/lib/python3.10/site-packages/datasets/download/download_manager.py:564\u001b[0m, in \u001b[0;36mDownloadManager.download_and_extract\u001b[0;34m(self, url_or_urls)\u001b[0m\n\u001b[1;32m    548\u001b[0m \u001b[39mdef\u001b[39;00m \u001b[39mdownload_and_extract\u001b[39m(\u001b[39mself\u001b[39m, url_or_urls):\n\u001b[1;32m    549\u001b[0m \u001b[39m    \u001b[39m\u001b[39m\"\"\"Download and extract given `url_or_urls`.\u001b[39;00m\n\u001b[1;32m    550\u001b[0m \n\u001b[1;32m    551\u001b[0m \u001b[39m    Is roughly equivalent to:\u001b[39;00m\n\u001b[0;32m   (...)\u001b[0m\n\u001b[1;32m    562\u001b[0m \u001b[39m        extracted_path(s): `str`, extracted paths of given URL(s).\u001b[39;00m\n\u001b[1;32m    563\u001b[0m \u001b[39m    \"\"\"\u001b[39;00m\n\u001b[0;32m--> 564\u001b[0m     \u001b[39mreturn\u001b[39;00m \u001b[39mself\u001b[39m\u001b[39m.\u001b[39mextract(\u001b[39mself\u001b[39;49m\u001b[39m.\u001b[39;49mdownload(url_or_urls))\n",
      "File \u001b[0;32m~/miniforge3/envs/oppe4rl/lib/python3.10/site-packages/datasets/download/download_manager.py:427\u001b[0m, in \u001b[0;36mDownloadManager.download\u001b[0;34m(self, url_or_urls)\u001b[0m\n\u001b[1;32m    424\u001b[0m download_func \u001b[39m=\u001b[39m partial(\u001b[39mself\u001b[39m\u001b[39m.\u001b[39m_download, download_config\u001b[39m=\u001b[39mdownload_config)\n\u001b[1;32m    426\u001b[0m start_time \u001b[39m=\u001b[39m datetime\u001b[39m.\u001b[39mnow()\n\u001b[0;32m--> 427\u001b[0m downloaded_path_or_paths \u001b[39m=\u001b[39m map_nested(\n\u001b[1;32m    428\u001b[0m     download_func,\n\u001b[1;32m    429\u001b[0m     url_or_urls,\n\u001b[1;32m    430\u001b[0m     map_tuple\u001b[39m=\u001b[39;49m\u001b[39mTrue\u001b[39;49;00m,\n\u001b[1;32m    431\u001b[0m     num_proc\u001b[39m=\u001b[39;49mdownload_config\u001b[39m.\u001b[39;49mnum_proc,\n\u001b[1;32m    432\u001b[0m     disable_tqdm\u001b[39m=\u001b[39;49m\u001b[39mnot\u001b[39;49;00m is_progress_bar_enabled(),\n\u001b[1;32m    433\u001b[0m     desc\u001b[39m=\u001b[39;49m\u001b[39m\"\u001b[39;49m\u001b[39mDownloading data files\u001b[39;49m\u001b[39m\"\u001b[39;49m,\n\u001b[1;32m    434\u001b[0m )\n\u001b[1;32m    435\u001b[0m duration \u001b[39m=\u001b[39m datetime\u001b[39m.\u001b[39mnow() \u001b[39m-\u001b[39m start_time\n\u001b[1;32m    436\u001b[0m logger\u001b[39m.\u001b[39minfo(\u001b[39mf\u001b[39m\u001b[39m\"\u001b[39m\u001b[39mDownloading took \u001b[39m\u001b[39m{\u001b[39;00mduration\u001b[39m.\u001b[39mtotal_seconds()\u001b[39m \u001b[39m\u001b[39m/\u001b[39m\u001b[39m/\u001b[39m\u001b[39m \u001b[39m\u001b[39m60\u001b[39m\u001b[39m}\u001b[39;00m\u001b[39m min\u001b[39m\u001b[39m\"\u001b[39m)\n",
      "File \u001b[0;32m~/miniforge3/envs/oppe4rl/lib/python3.10/site-packages/datasets/utils/py_utils.py:435\u001b[0m, in \u001b[0;36mmap_nested\u001b[0;34m(function, data_struct, dict_only, map_list, map_tuple, map_numpy, num_proc, parallel_min_length, types, disable_tqdm, desc)\u001b[0m\n\u001b[1;32m    433\u001b[0m \u001b[39m# Singleton\u001b[39;00m\n\u001b[1;32m    434\u001b[0m \u001b[39mif\u001b[39;00m \u001b[39mnot\u001b[39;00m \u001b[39misinstance\u001b[39m(data_struct, \u001b[39mdict\u001b[39m) \u001b[39mand\u001b[39;00m \u001b[39mnot\u001b[39;00m \u001b[39misinstance\u001b[39m(data_struct, types):\n\u001b[0;32m--> 435\u001b[0m     \u001b[39mreturn\u001b[39;00m function(data_struct)\n\u001b[1;32m    437\u001b[0m disable_tqdm \u001b[39m=\u001b[39m disable_tqdm \u001b[39mor\u001b[39;00m \u001b[39mnot\u001b[39;00m logging\u001b[39m.\u001b[39mis_progress_bar_enabled()\n\u001b[1;32m    438\u001b[0m iterable \u001b[39m=\u001b[39m \u001b[39mlist\u001b[39m(data_struct\u001b[39m.\u001b[39mvalues()) \u001b[39mif\u001b[39;00m \u001b[39misinstance\u001b[39m(data_struct, \u001b[39mdict\u001b[39m) \u001b[39melse\u001b[39;00m data_struct\n",
      "File \u001b[0;32m~/miniforge3/envs/oppe4rl/lib/python3.10/site-packages/datasets/download/download_manager.py:453\u001b[0m, in \u001b[0;36mDownloadManager._download\u001b[0;34m(self, url_or_filename, download_config)\u001b[0m\n\u001b[1;32m    450\u001b[0m \u001b[39mif\u001b[39;00m is_relative_path(url_or_filename):\n\u001b[1;32m    451\u001b[0m     \u001b[39m# append the relative path to the base_path\u001b[39;00m\n\u001b[1;32m    452\u001b[0m     url_or_filename \u001b[39m=\u001b[39m url_or_path_join(\u001b[39mself\u001b[39m\u001b[39m.\u001b[39m_base_path, url_or_filename)\n\u001b[0;32m--> 453\u001b[0m \u001b[39mreturn\u001b[39;00m cached_path(url_or_filename, download_config\u001b[39m=\u001b[39;49mdownload_config)\n",
      "File \u001b[0;32m~/miniforge3/envs/oppe4rl/lib/python3.10/site-packages/datasets/utils/file_utils.py:183\u001b[0m, in \u001b[0;36mcached_path\u001b[0;34m(url_or_filename, download_config, **download_kwargs)\u001b[0m\n\u001b[1;32m    179\u001b[0m     url_or_filename \u001b[39m=\u001b[39m \u001b[39mstr\u001b[39m(url_or_filename)\n\u001b[1;32m    181\u001b[0m \u001b[39mif\u001b[39;00m is_remote_url(url_or_filename):\n\u001b[1;32m    182\u001b[0m     \u001b[39m# URL, so get it from the cache (downloading if necessary)\u001b[39;00m\n\u001b[0;32m--> 183\u001b[0m     output_path \u001b[39m=\u001b[39m get_from_cache(\n\u001b[1;32m    184\u001b[0m         url_or_filename,\n\u001b[1;32m    185\u001b[0m         cache_dir\u001b[39m=\u001b[39;49mcache_dir,\n\u001b[1;32m    186\u001b[0m         force_download\u001b[39m=\u001b[39;49mdownload_config\u001b[39m.\u001b[39;49mforce_download,\n\u001b[1;32m    187\u001b[0m         proxies\u001b[39m=\u001b[39;49mdownload_config\u001b[39m.\u001b[39;49mproxies,\n\u001b[1;32m    188\u001b[0m         resume_download\u001b[39m=\u001b[39;49mdownload_config\u001b[39m.\u001b[39;49mresume_download,\n\u001b[1;32m    189\u001b[0m         user_agent\u001b[39m=\u001b[39;49mdownload_config\u001b[39m.\u001b[39;49muser_agent,\n\u001b[1;32m    190\u001b[0m         local_files_only\u001b[39m=\u001b[39;49mdownload_config\u001b[39m.\u001b[39;49mlocal_files_only,\n\u001b[1;32m    191\u001b[0m         use_etag\u001b[39m=\u001b[39;49mdownload_config\u001b[39m.\u001b[39;49muse_etag,\n\u001b[1;32m    192\u001b[0m         max_retries\u001b[39m=\u001b[39;49mdownload_config\u001b[39m.\u001b[39;49mmax_retries,\n\u001b[1;32m    193\u001b[0m         use_auth_token\u001b[39m=\u001b[39;49mdownload_config\u001b[39m.\u001b[39;49muse_auth_token,\n\u001b[1;32m    194\u001b[0m         ignore_url_params\u001b[39m=\u001b[39;49mdownload_config\u001b[39m.\u001b[39;49mignore_url_params,\n\u001b[1;32m    195\u001b[0m         storage_options\u001b[39m=\u001b[39;49mdownload_config\u001b[39m.\u001b[39;49mstorage_options,\n\u001b[1;32m    196\u001b[0m         download_desc\u001b[39m=\u001b[39;49mdownload_config\u001b[39m.\u001b[39;49mdownload_desc,\n\u001b[1;32m    197\u001b[0m     )\n\u001b[1;32m    198\u001b[0m \u001b[39melif\u001b[39;00m os\u001b[39m.\u001b[39mpath\u001b[39m.\u001b[39mexists(url_or_filename):\n\u001b[1;32m    199\u001b[0m     \u001b[39m# File, and it exists.\u001b[39;00m\n\u001b[1;32m    200\u001b[0m     output_path \u001b[39m=\u001b[39m url_or_filename\n",
      "File \u001b[0;32m~/miniforge3/envs/oppe4rl/lib/python3.10/site-packages/datasets/utils/file_utils.py:566\u001b[0m, in \u001b[0;36mget_from_cache\u001b[0;34m(url, cache_dir, force_download, proxies, etag_timeout, resume_download, user_agent, local_files_only, use_etag, max_retries, use_auth_token, ignore_url_params, storage_options, download_desc)\u001b[0m\n\u001b[1;32m    564\u001b[0m _raise_if_offline_mode_is_enabled(\u001b[39mf\u001b[39m\u001b[39m\"\u001b[39m\u001b[39mTried to reach \u001b[39m\u001b[39m{\u001b[39;00murl\u001b[39m}\u001b[39;00m\u001b[39m\"\u001b[39m)\n\u001b[1;32m    565\u001b[0m \u001b[39mif\u001b[39;00m head_error \u001b[39mis\u001b[39;00m \u001b[39mnot\u001b[39;00m \u001b[39mNone\u001b[39;00m:\n\u001b[0;32m--> 566\u001b[0m     \u001b[39mraise\u001b[39;00m \u001b[39mConnectionError\u001b[39;00m(\u001b[39mf\u001b[39m\u001b[39m\"\u001b[39m\u001b[39mCouldn\u001b[39m\u001b[39m'\u001b[39m\u001b[39mt reach \u001b[39m\u001b[39m{\u001b[39;00murl\u001b[39m}\u001b[39;00m\u001b[39m (\u001b[39m\u001b[39m{\u001b[39;00m\u001b[39mrepr\u001b[39m(head_error)\u001b[39m}\u001b[39;00m\u001b[39m)\u001b[39m\u001b[39m\"\u001b[39m)\n\u001b[1;32m    567\u001b[0m \u001b[39melif\u001b[39;00m response \u001b[39mis\u001b[39;00m \u001b[39mnot\u001b[39;00m \u001b[39mNone\u001b[39;00m:\n\u001b[1;32m    568\u001b[0m     \u001b[39mraise\u001b[39;00m \u001b[39mConnectionError\u001b[39;00m(\u001b[39mf\u001b[39m\u001b[39m\"\u001b[39m\u001b[39mCouldn\u001b[39m\u001b[39m'\u001b[39m\u001b[39mt reach \u001b[39m\u001b[39m{\u001b[39;00murl\u001b[39m}\u001b[39;00m\u001b[39m (error \u001b[39m\u001b[39m{\u001b[39;00mresponse\u001b[39m.\u001b[39mstatus_code\u001b[39m}\u001b[39;00m\u001b[39m)\u001b[39m\u001b[39m\"\u001b[39m)\n",
      "\u001b[0;31mConnectionError\u001b[0m: Couldn't reach https://github.com/salesforce/WikiSQL/raw/master/data.tar.bz2 (SSLError(MaxRetryError(\"HTTPSConnectionPool(host='github.com', port=443): Max retries exceeded with url: /salesforce/WikiSQL/raw/master/data.tar.bz2 (Caused by SSLError(SSLCertVerificationError(1, '[SSL: CERTIFICATE_VERIFY_FAILED] certificate verify failed: unable to get issuer certificate (_ssl.c:997)')))\")))"
     ]
    }
   ],
   "source": [
    "from datasets import load_dataset\n",
    "\n",
    "sql = load_dataset('wikisql', split='test')"
   ]
  },
  {
   "cell_type": "code",
   "execution_count": null,
   "metadata": {
    "id": "pc-W6RBDV7vB"
   },
   "outputs": [],
   "source": [
    "sql = sql['sql'].sample(len(sql), random_state=1113)[:1000]\n",
    "sql = [x['human_readable'] for x in sql]\n",
    "print(sql[:10])\n",
    "print(len(sql))"
   ]
  },
  {
   "cell_type": "code",
   "execution_count": null,
   "metadata": {
    "id": "a_4ovAvdl4d7"
   },
   "outputs": [],
   "source": [
    "train_sql = sql.copy()"
   ]
  },
  {
   "cell_type": "code",
   "execution_count": null,
   "metadata": {
    "id": "dwPq2ya7mIU8"
   },
   "outputs": [],
   "source": [
    "import pandas as pd\n",
    "\n",
    "test_df = pd.DataFrame({'sql_sentence': test_sql})\n",
    "test_df.to_csv('test_df.csv', index=False)"
   ]
  },
  {
   "cell_type": "code",
   "execution_count": null,
   "metadata": {
    "colab": {
     "base_uri": "https://localhost:8080/"
    },
    "id": "Fyg3EfVxmfIi",
    "outputId": "2e37f08c-4f9f-4f68-ea24-dc93f09c4e1d"
   },
   "outputs": [
    {
     "data": {
      "text/plain": [
       "(15878, 1)"
      ]
     },
     "execution_count": 32,
     "metadata": {
      "tags": []
     },
     "output_type": "execute_result"
    }
   ],
   "source": [
    "pd.read_csv('test_df.csv').shape"
   ]
  },
  {
   "attachments": {},
   "cell_type": "markdown",
   "metadata": {
    "id": "o2D7T3c_Z22Y"
   },
   "source": [
    "### Get sentences"
   ]
  },
  {
   "cell_type": "code",
   "execution_count": null,
   "metadata": {
    "colab": {
     "base_uri": "https://localhost:8080/"
    },
    "id": "lfDwpE39TkTr",
    "outputId": "497d715b-3703-45bc-a949-63280bdea032"
   },
   "outputs": [
    {
     "name": "stderr",
     "output_type": "stream",
     "text": [
      "Reusing dataset glue (/root/.cache/huggingface/datasets/glue/stsb/1.0.0/dacbe3125aa31d7f70367a07a8a9e72a5a0bfeb5fc42e75c9db75b96da6053ad)\n"
     ]
    },
    {
     "name": "stdout",
     "output_type": "stream",
     "text": [
      "(1379, 4)\n"
     ]
    }
   ],
   "source": [
    "sentences = load_dataset('glue', 'stsb', split='test')\n",
    "print(sentences.shape)"
   ]
  },
  {
   "cell_type": "code",
   "execution_count": null,
   "metadata": {
    "colab": {
     "base_uri": "https://localhost:8080/"
    },
    "id": "ATrbu91HZgyg",
    "outputId": "ea436e75-0536-4a90-85bc-52f5b40ce0b1"
   },
   "outputs": [
    {
     "name": "stderr",
     "output_type": "stream",
     "text": [
      "Loading cached shuffled indices for dataset at /root/.cache/huggingface/datasets/glue/stsb/1.0.0/dacbe3125aa31d7f70367a07a8a9e72a5a0bfeb5fc42e75c9db75b96da6053ad/cache-b566652a2a364b60.arrow\n"
     ]
    },
    {
     "name": "stdout",
     "output_type": "stream",
     "text": [
      "['Storm buries Northeast; 16 inches of snow in NJ', \"You don't have to know.\", 'A girl is playing guitar.', \"I don't think it makes any tremendous difference.\", 'Militant attack from Afghanistan kills four in Upper Dir', 'The New York senator\\'s new book, \"Living History,\" appears a certain bestseller.', \"I think it's fine to ask this question.\", 'Schiphol airport partly evacuated after bomb threat', 'Syria fighting rages as Russia urges Western re-think', 'Nigeria mourns over 193 people killed in plane crash']\n"
     ]
    }
   ],
   "source": [
    "sentences = sentences.shuffle(seed=1113)['sentence1'][:1000]\n",
    "print(sentences[:10])"
   ]
  },
  {
   "attachments": {},
   "cell_type": "markdown",
   "metadata": {
    "id": "d7iIlc3hbEeb"
   },
   "source": [
    "### Generate dataset"
   ]
  },
  {
   "cell_type": "code",
   "execution_count": null,
   "metadata": {
    "colab": {
     "base_uri": "https://localhost:8080/"
    },
    "id": "ykJmWwBnbJda",
    "outputId": "e344fd89-557d-41a3-b335-4abfe3f2e88f"
   },
   "outputs": [
    {
     "data": {
      "text/plain": [
       "(2000, 2)"
      ]
     },
     "execution_count": 6,
     "metadata": {
      "tags": []
     },
     "output_type": "execute_result"
    }
   ],
   "source": [
    "import pandas as pd \n",
    "import numpy as np\n",
    "\n",
    "data = pd.DataFrame({'sentence': sql+sentences, 'is_sql': np.concatenate((np.ones(1000), np.zeros(1000)))})\n",
    "data.shape"
   ]
  },
  {
   "cell_type": "code",
   "execution_count": null,
   "metadata": {
    "colab": {
     "base_uri": "https://localhost:8080/",
     "height": 362
    },
    "id": "nzyot1EOcL-P",
    "outputId": "099b8e44-6fa6-4408-ca4e-b380696550c7"
   },
   "outputs": [
    {
     "data": {
      "text/html": [
       "<div>\n",
       "<style scoped>\n",
       "    .dataframe tbody tr th:only-of-type {\n",
       "        vertical-align: middle;\n",
       "    }\n",
       "\n",
       "    .dataframe tbody tr th {\n",
       "        vertical-align: top;\n",
       "    }\n",
       "\n",
       "    .dataframe thead th {\n",
       "        text-align: right;\n",
       "    }\n",
       "</style>\n",
       "<table border=\"1\" class=\"dataframe\">\n",
       "  <thead>\n",
       "    <tr style=\"text-align: right;\">\n",
       "      <th></th>\n",
       "      <th>sentence</th>\n",
       "      <th>is_sql</th>\n",
       "    </tr>\n",
       "  </thead>\n",
       "  <tbody>\n",
       "    <tr>\n",
       "      <th>995</th>\n",
       "      <td>SELECT N° FROM table WHERE Television service ...</td>\n",
       "      <td>1.0</td>\n",
       "    </tr>\n",
       "    <tr>\n",
       "      <th>996</th>\n",
       "      <td>SELECT SUM Grid FROM table WHERE Laps = 30 AND...</td>\n",
       "      <td>1.0</td>\n",
       "    </tr>\n",
       "    <tr>\n",
       "      <th>997</th>\n",
       "      <td>SELECT Position FROM table WHERE Player = kenn...</td>\n",
       "      <td>1.0</td>\n",
       "    </tr>\n",
       "    <tr>\n",
       "      <th>998</th>\n",
       "      <td>SELECT Event FROM table WHERE Score points = 10</td>\n",
       "      <td>1.0</td>\n",
       "    </tr>\n",
       "    <tr>\n",
       "      <th>999</th>\n",
       "      <td>SELECT Date FROM table WHERE Opponent in the f...</td>\n",
       "      <td>1.0</td>\n",
       "    </tr>\n",
       "    <tr>\n",
       "      <th>1000</th>\n",
       "      <td>Storm buries Northeast; 16 inches of snow in NJ</td>\n",
       "      <td>0.0</td>\n",
       "    </tr>\n",
       "    <tr>\n",
       "      <th>1001</th>\n",
       "      <td>You don't have to know.</td>\n",
       "      <td>0.0</td>\n",
       "    </tr>\n",
       "    <tr>\n",
       "      <th>1002</th>\n",
       "      <td>A girl is playing guitar.</td>\n",
       "      <td>0.0</td>\n",
       "    </tr>\n",
       "    <tr>\n",
       "      <th>1003</th>\n",
       "      <td>I don't think it makes any tremendous difference.</td>\n",
       "      <td>0.0</td>\n",
       "    </tr>\n",
       "    <tr>\n",
       "      <th>1004</th>\n",
       "      <td>Militant attack from Afghanistan kills four in...</td>\n",
       "      <td>0.0</td>\n",
       "    </tr>\n",
       "  </tbody>\n",
       "</table>\n",
       "</div>"
      ],
      "text/plain": [
       "                                               sentence  is_sql\n",
       "995   SELECT N° FROM table WHERE Television service ...     1.0\n",
       "996   SELECT SUM Grid FROM table WHERE Laps = 30 AND...     1.0\n",
       "997   SELECT Position FROM table WHERE Player = kenn...     1.0\n",
       "998     SELECT Event FROM table WHERE Score points = 10     1.0\n",
       "999   SELECT Date FROM table WHERE Opponent in the f...     1.0\n",
       "1000    Storm buries Northeast; 16 inches of snow in NJ     0.0\n",
       "1001                            You don't have to know.     0.0\n",
       "1002                          A girl is playing guitar.     0.0\n",
       "1003  I don't think it makes any tremendous difference.     0.0\n",
       "1004  Militant attack from Afghanistan kills four in...     0.0"
      ]
     },
     "execution_count": 7,
     "metadata": {
      "tags": []
     },
     "output_type": "execute_result"
    }
   ],
   "source": [
    "data.iloc[995:1005]"
   ]
  },
  {
   "attachments": {},
   "cell_type": "markdown",
   "metadata": {
    "id": "qVGapzbCc1fo"
   },
   "source": [
    "### Get embeddings"
   ]
  },
  {
   "cell_type": "code",
   "execution_count": 1,
   "metadata": {
    "id": "Qw8VqFZWc6CC"
   },
   "outputs": [],
   "source": [
    "%%capture \n",
    "!pip install transformers"
   ]
  },
  {
   "cell_type": "code",
   "execution_count": 2,
   "metadata": {
    "colab": {
     "base_uri": "https://localhost:8080/"
    },
    "id": "rxtgprXs4vRH",
    "outputId": "82199062-ecd2-4508-f5fe-55eda2d21083"
   },
   "outputs": [
    {
     "data": {
      "application/vnd.jupyter.widget-view+json": {
       "model_id": "01e97a99665c48e2aa9433fa9dce5ea4",
       "version_major": 2,
       "version_minor": 0
      },
      "text/plain": [
       "Downloading:   0%|          | 0.00/899k [00:00<?, ?B/s]"
      ]
     },
     "metadata": {},
     "output_type": "display_data"
    },
    {
     "data": {
      "application/vnd.jupyter.widget-view+json": {
       "model_id": "5bbd4e37990b41bc8fc019ddac4ddedf",
       "version_major": 2,
       "version_minor": 0
      },
      "text/plain": [
       "Downloading:   0%|          | 0.00/456k [00:00<?, ?B/s]"
      ]
     },
     "metadata": {},
     "output_type": "display_data"
    },
    {
     "data": {
      "application/vnd.jupyter.widget-view+json": {
       "model_id": "649d0161186e4077bc455f33073518e7",
       "version_major": 2,
       "version_minor": 0
      },
      "text/plain": [
       "Downloading:   0%|          | 0.00/481 [00:00<?, ?B/s]"
      ]
     },
     "metadata": {},
     "output_type": "display_data"
    },
    {
     "data": {
      "application/vnd.jupyter.widget-view+json": {
       "model_id": "8213f66e3ef14336899f1d2035b0b39a",
       "version_major": 2,
       "version_minor": 0
      },
      "text/plain": [
       "Downloading:   0%|          | 0.00/501M [00:00<?, ?B/s]"
      ]
     },
     "metadata": {},
     "output_type": "display_data"
    },
    {
     "name": "stderr",
     "output_type": "stream",
     "text": [
      "Some weights of the model checkpoint at roberta-base were not used when initializing RobertaModel: ['lm_head.layer_norm.bias', 'lm_head.dense.weight', 'lm_head.layer_norm.weight', 'lm_head.bias', 'lm_head.decoder.weight', 'lm_head.dense.bias']\n",
      "- This IS expected if you are initializing RobertaModel from the checkpoint of a model trained on another task or with another architecture (e.g. initializing a BertForSequenceClassification model from a BertForPreTraining model).\n",
      "- This IS NOT expected if you are initializing RobertaModel from the checkpoint of a model that you expect to be exactly identical (initializing a BertForSequenceClassification model from a BertForSequenceClassification model).\n"
     ]
    }
   ],
   "source": [
    "from transformers import RobertaTokenizer, RobertaModel\n",
    "  \n",
    "tokenizer = RobertaTokenizer.from_pretrained('roberta-base')\n",
    "model = RobertaModel.from_pretrained('roberta-base')"
   ]
  },
  {
   "cell_type": "code",
   "execution_count": 3,
   "metadata": {
    "id": "YbiZ1ED84vRI"
   },
   "outputs": [],
   "source": [
    "tokenizer.save_pretrained('.')\n",
    "model.save_pretrained('.')"
   ]
  },
  {
   "cell_type": "code",
   "execution_count": 4,
   "metadata": {
    "id": "bKSk7NB151G0"
   },
   "outputs": [],
   "source": [
    "%%capture\n",
    "!pip install sentence-transformers"
   ]
  },
  {
   "cell_type": "code",
   "execution_count": 5,
   "metadata": {
    "id": "07xrAe8H4vRJ"
   },
   "outputs": [],
   "source": [
    "from sentence_transformers import SentenceTransformer, models\n",
    "\n",
    "word_embedding_model = models.Transformer('.', max_seq_length=15)\n",
    "pooling_model = models.Pooling(word_embedding_model.get_word_embedding_dimension())\n",
    "\n",
    "model = SentenceTransformer(modules=[word_embedding_model, pooling_model])"
   ]
  },
  {
   "cell_type": "code",
   "execution_count": 51,
   "metadata": {},
   "outputs": [
    {
     "name": "stdout",
     "output_type": "stream",
     "text": [
      "(1000, 2)\n"
     ]
    }
   ],
   "source": [
    "import pandas as pd\n",
    "\n",
    "data_sql = pd.read_csv('data/wikiSQL/train_sql.csv')\n",
    "data_sql.dropna(inplace=True)\n",
    "data_sql['sqli'] = '0'\n",
    "data_sql = data_sql.iloc[0:1000]\n",
    "data_sql.head()\n",
    "print(data_sql.shape)"
   ]
  },
  {
   "cell_type": "code",
   "execution_count": 52,
   "metadata": {},
   "outputs": [
    {
     "data": {
      "text/html": [
       "<div>\n",
       "<style scoped>\n",
       "    .dataframe tbody tr th:only-of-type {\n",
       "        vertical-align: middle;\n",
       "    }\n",
       "\n",
       "    .dataframe tbody tr th {\n",
       "        vertical-align: top;\n",
       "    }\n",
       "\n",
       "    .dataframe thead th {\n",
       "        text-align: right;\n",
       "    }\n",
       "</style>\n",
       "<table border=\"1\" class=\"dataframe\">\n",
       "  <thead>\n",
       "    <tr style=\"text-align: right;\">\n",
       "      <th></th>\n",
       "      <th>sql_sentence</th>\n",
       "      <th>sqli</th>\n",
       "    </tr>\n",
       "  </thead>\n",
       "  <tbody>\n",
       "    <tr>\n",
       "      <th>1</th>\n",
       "      <td>\" or pg_sleep ( __TIME__ ) --</td>\n",
       "      <td>1</td>\n",
       "    </tr>\n",
       "    <tr>\n",
       "      <th>2</th>\n",
       "      <td>create user name identified by pass123 tempora...</td>\n",
       "      <td>1</td>\n",
       "    </tr>\n",
       "    <tr>\n",
       "      <th>3</th>\n",
       "      <td>%29</td>\n",
       "      <td>1</td>\n",
       "    </tr>\n",
       "    <tr>\n",
       "      <th>4</th>\n",
       "      <td>' AND 1 = utl_inaddr.get_host_address  (  (  S...</td>\n",
       "      <td>1</td>\n",
       "    </tr>\n",
       "    <tr>\n",
       "      <th>5</th>\n",
       "      <td>select * from users where id = '1' or @ @1 = ...</td>\n",
       "      <td>1</td>\n",
       "    </tr>\n",
       "  </tbody>\n",
       "</table>\n",
       "</div>"
      ],
      "text/plain": [
       "                                        sql_sentence sqli\n",
       "1                      \" or pg_sleep ( __TIME__ ) --    1\n",
       "2  create user name identified by pass123 tempora...    1\n",
       "3                                                %29    1\n",
       "4  ' AND 1 = utl_inaddr.get_host_address  (  (  S...    1\n",
       "5   select * from users where id = '1' or @ @1 = ...    1"
      ]
     },
     "execution_count": 52,
     "metadata": {},
     "output_type": "execute_result"
    }
   ],
   "source": [
    "data_sqli = pd.read_csv('data/sqli/sqliv2.csv', encoding='utf-16')\n",
    "data_sqli.dropna(inplace=True)\n",
    "data_sqli.rename(columns = {'Sentence': 'sql_sentence'}, inplace = True)\n",
    "data_sqli['sqli'] = '1'\n",
    "data_sqli.drop(['Label'], axis=1, inplace=True)\n",
    "data_sqli = data_sqli.iloc[0:1000]\n",
    "data_sqli.head()"
   ]
  },
  {
   "cell_type": "code",
   "execution_count": 53,
   "metadata": {},
   "outputs": [
    {
     "data": {
      "text/plain": [
       "<AxesSubplot: >"
      ]
     },
     "execution_count": 53,
     "metadata": {},
     "output_type": "execute_result"
    },
    {
     "data": {
      "image/png": "[encoded data removed]",
      "text/plain": [
       "<Figure size 640x480 with 1 Axes>"
      ]
     },
     "metadata": {},
     "output_type": "display_data"
    }
   ],
   "source": [
    "data = pd.concat([data_sql, data_sqli], ignore_index=True)\n",
    "data['sqli'].hist()"
   ]
  },
  {
   "cell_type": "code",
   "execution_count": 37,
   "metadata": {
    "colab": {
     "base_uri": "https://localhost:8080/"
    },
    "id": "eME0-v0tdlMm",
    "outputId": "c0889d64-d29a-4abc-86f4-33739af2b3bd"
   },
   "outputs": [
    {
     "name": "stdout",
     "output_type": "stream",
     "text": [
      "cpu\n"
     ]
    }
   ],
   "source": [
    "import torch\n",
    "\n",
    "device = torch.device('cuda') if torch.cuda.is_available() else torch.device('cpu')\n",
    "model.to(device)\n",
    "print(device)"
   ]
  },
  {
   "cell_type": "code",
   "execution_count": 38,
   "metadata": {},
   "outputs": [
    {
     "data": {
      "text/html": [
       "<div>\n",
       "<style scoped>\n",
       "    .dataframe tbody tr th:only-of-type {\n",
       "        vertical-align: middle;\n",
       "    }\n",
       "\n",
       "    .dataframe tbody tr th {\n",
       "        vertical-align: top;\n",
       "    }\n",
       "\n",
       "    .dataframe thead th {\n",
       "        text-align: right;\n",
       "    }\n",
       "</style>\n",
       "<table border=\"1\" class=\"dataframe\">\n",
       "  <thead>\n",
       "    <tr style=\"text-align: right;\">\n",
       "      <th></th>\n",
       "      <th>sql_sentence</th>\n",
       "      <th>sqli</th>\n",
       "    </tr>\n",
       "  </thead>\n",
       "  <tbody>\n",
       "    <tr>\n",
       "      <th>0</th>\n",
       "      <td>SELECT Notes FROM table WHERE Current slogan =...</td>\n",
       "      <td>0</td>\n",
       "    </tr>\n",
       "    <tr>\n",
       "      <th>1</th>\n",
       "      <td>SELECT Current series FROM table WHERE Notes =...</td>\n",
       "      <td>0</td>\n",
       "    </tr>\n",
       "    <tr>\n",
       "      <th>2</th>\n",
       "      <td>SELECT Format FROM table WHERE State/territory...</td>\n",
       "      <td>0</td>\n",
       "    </tr>\n",
       "    <tr>\n",
       "      <th>3</th>\n",
       "      <td>SELECT Text/background colour FROM table WHERE...</td>\n",
       "      <td>0</td>\n",
       "    </tr>\n",
       "    <tr>\n",
       "      <th>4</th>\n",
       "      <td>SELECT COUNT Fleet Series (Quantity) FROM tabl...</td>\n",
       "      <td>0</td>\n",
       "    </tr>\n",
       "  </tbody>\n",
       "</table>\n",
       "</div>"
      ],
      "text/plain": [
       "                                        sql_sentence  sqli\n",
       "0  SELECT Notes FROM table WHERE Current slogan =...     0\n",
       "1  SELECT Current series FROM table WHERE Notes =...     0\n",
       "2  SELECT Format FROM table WHERE State/territory...     0\n",
       "3  SELECT Text/background colour FROM table WHERE...     0\n",
       "4  SELECT COUNT Fleet Series (Quantity) FROM tabl...     0"
      ]
     },
     "execution_count": 38,
     "metadata": {},
     "output_type": "execute_result"
    }
   ],
   "source": [
    "data.head()"
   ]
  },
  {
   "cell_type": "code",
   "execution_count": 28,
   "metadata": {},
   "outputs": [
    {
     "name": "stdout",
     "output_type": "stream",
     "text": [
      "[-3.13129015e-02 -1.17420748e-01 -3.92757691e-02  1.55090153e-01\n",
      "  5.90124577e-02  1.84879392e-01 -5.43268956e-02 -2.15998050e-02\n",
      "  1.24925621e-01  9.01639275e-03 -2.87114829e-01 -1.88388713e-02\n",
      "  3.18995044e-02 -1.12989925e-01  8.32462236e-02 -9.69102159e-02\n",
      " -6.36612028e-02 -5.64153716e-02  5.51141053e-02  2.91574568e-01\n",
      "  4.68801074e-02  7.12016597e-02  2.07112115e-02  5.74591011e-02\n",
      " -2.85458475e-01 -3.94662432e-02  4.35463339e-02  4.55318354e-02\n",
      " -1.64133534e-02  2.85810560e-01 -9.64784324e-02  7.00300857e-02\n",
      "  2.18345914e-02 -4.27755620e-03 -1.64834142e-03  7.61287436e-02\n",
      "  3.39042433e-02  1.97409932e-02  7.62050375e-02 -1.92758702e-02\n",
      " -8.59623216e-03 -5.47524206e-02 -6.67702854e-02  7.29716942e-02\n",
      "  6.02803677e-02 -1.12169618e-02 -1.31138191e-01  1.09080821e-01\n",
      " -9.23446566e-02  2.93286089e-02 -8.18382427e-02  1.46888822e-01\n",
      " -9.76199433e-02  1.81133039e-02 -9.44182128e-02  6.86696768e-02\n",
      " -2.50738580e-02  9.02587175e-02  1.11631244e-01  3.63264866e-02\n",
      "  3.95303331e-02  6.61466897e-01 -3.23223174e-01 -9.41098407e-02\n",
      "  1.21223554e-01 -6.40024915e-02  2.12253593e-02  3.47066969e-02\n",
      "  4.31761555e-02  6.06491640e-02  7.22338259e-02 -1.09522887e-01\n",
      " -3.45851518e-02 -5.32037579e-02 -1.06109180e-01 -2.73519874e-01\n",
      "  8.52685422e-02 -5.04175377e+00  1.40391916e-01 -9.28212330e-03\n",
      "  8.73929076e-03 -1.35161132e-01  1.10912752e+00 -6.35070205e-02\n",
      "  1.08938351e-01 -7.64511898e-02  6.23340942e-02  1.55750075e-02\n",
      "  1.00053735e-01 -1.96506515e-01  6.97385147e-02  9.84032527e-02\n",
      "  2.85917431e-01  2.67201841e-01 -1.01810776e-01 -3.35909729e-03\n",
      "  1.38069153e-01  1.42623797e-01 -7.75711313e-02 -1.13887256e-02\n",
      "  1.10474065e-01  1.07815996e-01  3.48474622e-01  3.00726384e-01\n",
      "  4.37065363e-02  6.94658533e-02  7.15479031e-02 -8.73685181e-02\n",
      " -1.56633351e-02  2.71502789e-02  1.34725288e-01 -5.34006543e-02\n",
      "  1.47690639e-01  6.11151718e-02 -1.73582181e-01 -1.75960939e-02\n",
      "  7.43316934e-02  3.13804187e-02 -6.05260581e-03 -4.92817909e-02\n",
      " -3.55219916e-02 -2.79688537e-02  3.36382598e-01 -1.27794057e-01\n",
      "  8.91043767e-02  1.60113722e-01  5.36662266e-02  1.73465401e-01\n",
      " -3.75543758e-02  8.84127468e-02  4.39876989e-02 -3.85475308e-01\n",
      "  2.79781818e-02 -1.10334903e-01  3.60955149e-02  3.80557738e-02\n",
      "  2.66198013e-02  5.39037697e-02  9.82721057e-03 -1.69673398e-01\n",
      " -3.81267853e-02  1.87039137e-01 -4.54714075e-02 -2.91324686e-02\n",
      "  2.18584195e-01  5.83177246e-02 -6.23055659e-02 -3.29806000e-01\n",
      " -4.98321168e-02  8.38924348e-02  6.84897155e-02 -1.53078645e-01\n",
      " -4.57876474e-02 -1.79197695e-02  1.09522387e-01 -1.27292767e-01\n",
      " -5.77524267e-02  3.59058119e-02  2.63107512e-02 -2.66768448e-02\n",
      "  9.73054990e-02  6.97362274e-02  2.02456519e-01  1.51522592e-01\n",
      "  3.16873938e-02  1.22249156e-01  6.89759254e-02  1.81542948e-01\n",
      " -1.60655171e-01  1.35320351e-01 -7.09066689e-02  2.00195491e-01\n",
      " -3.47464066e-03 -3.98262776e-02 -1.04525432e-01  1.05398055e-02\n",
      "  1.08825170e-01 -2.73641292e-02 -8.30090120e-02  1.02430612e-01\n",
      "  5.67470901e-02  6.67447075e-02  8.68615657e-02 -4.18004133e-02\n",
      " -4.11276817e-02  1.58135518e-01 -7.85045996e-02 -2.01020271e-01\n",
      " -4.85588424e-02  1.24921035e-02  8.03388283e-02 -1.06990419e-01\n",
      "  2.00785743e-03  7.53947049e-02 -3.65219563e-02  6.63201138e-02\n",
      "  4.56322692e-02  5.44298925e-02  4.37935591e-02 -1.42577523e-02\n",
      "  6.53227493e-02  5.32278866e-02  2.06105173e-01 -1.68371256e-02\n",
      "  2.17393905e-01  6.14066273e-02 -1.91108152e-01  1.29734322e-01\n",
      " -9.22568236e-03  6.28011161e-03 -1.22391239e-01  1.58998389e-02\n",
      " -1.60497516e-01  3.67980540e-01 -2.59085715e-01 -1.20874085e-01\n",
      "  8.88516381e-02 -1.71801960e+00  4.09803241e-02 -3.61624271e-01\n",
      " -5.62583096e-02 -1.09796174e-01  3.44001979e-01  9.00476053e-02\n",
      "  2.99624037e-02  2.70641018e-02 -6.66501224e-02 -8.43193755e-02\n",
      " -3.72600891e-02  2.26287276e-01  5.42464107e-02 -1.53818156e-03\n",
      " -9.14319605e-02 -1.47491500e-01 -8.74112919e-02 -2.85107672e-01\n",
      "  1.38370544e-01 -2.67109852e-02 -4.51697856e-02 -1.13990985e-01\n",
      " -1.45089298e-01  5.95146567e-02 -3.61335501e-02  1.68224618e-01\n",
      "  1.43889189e-01 -1.25465855e-01 -1.39651239e-01  3.22190940e-01\n",
      "  7.07052574e-02 -2.06025064e-01  1.47073984e-01 -2.21433267e-01\n",
      " -8.47044364e-02 -7.58537352e-02 -2.66026370e-02 -6.11928441e-02\n",
      " -1.09729297e-01 -3.66278179e-02  4.36125427e-01  4.17214781e-01\n",
      " -2.74453070e-02  2.02049874e-02  8.64582285e-02 -4.92894761e-02\n",
      " -6.72360659e-02 -2.41710171e-01  5.14406003e-02  1.36687877e-02\n",
      "  6.46333247e-02 -3.15644801e-01  5.49442284e-02  2.02676822e-02\n",
      "  1.55506283e-01  3.32688615e-02  2.34082807e-03  9.12547484e-02\n",
      "  4.74565774e-01 -6.95997942e-03 -7.50845447e-02  8.66523013e-02\n",
      "  7.51434788e-02 -1.45542890e-01 -4.85617518e-01 -8.57787654e-02\n",
      " -7.72998249e-03  1.71128079e-01 -2.24635407e-01 -1.09207258e-01\n",
      "  4.19393890e-02  8.29805210e-02  5.83155965e-03  8.21384415e-02\n",
      " -1.23533539e-01  1.36276290e-01 -2.09459230e-01 -2.00222675e-02\n",
      "  8.89731497e-02  7.98127800e-02  1.12912305e-01  3.38288814e-01\n",
      "  6.98641241e-02 -1.57030880e-01 -2.71259367e-01  9.65951160e-02\n",
      " -6.43444806e-02  7.67650306e-02  5.33032902e-02  5.28340451e-02\n",
      " -2.73203524e-03  1.04421616e-01 -1.14830591e-01 -5.96873723e-02\n",
      "  7.59106455e-03  1.42620265e-01  6.62683919e-02  5.70809916e-02\n",
      "  1.39991105e-01  5.25694899e-02 -1.11309983e-01  1.02268592e-01\n",
      "  8.28101113e-03  4.97914143e-02  1.55971840e-01 -5.37549891e-02\n",
      "  8.86643752e-02 -1.27342483e-02 -1.78781241e-01  9.97790471e-02\n",
      "  2.46094149e-02  2.87005514e-01  7.54275858e-01 -3.45790505e-01\n",
      "  1.30894840e-01 -1.00278454e-02  3.05155478e-02  1.03353530e-01\n",
      "  1.90501679e-02  5.10662906e-02  1.55455261e-01  1.26512080e-01\n",
      " -4.17530350e-02  1.09514361e-02  2.37413961e-02  9.95845497e-02\n",
      "  4.15988341e-02  1.64822638e-01 -1.04642391e-01 -6.71866238e-02\n",
      " -3.43148112e-02 -5.27827255e-02 -1.01361290e-01 -3.49654071e-02\n",
      "  2.78405026e-02 -1.42859310e-01 -6.10864833e-02  2.62352258e-01\n",
      "  2.85654422e-03  2.03110263e-01  4.50853109e-02 -1.51813224e-01\n",
      "  1.69890195e-01  7.07987696e-02  7.53737018e-02  2.32298106e-01\n",
      "  3.51984985e-02 -5.85059337e-02  2.40385920e-01 -1.54845849e-01\n",
      "  2.79342588e-02  9.39117298e-02  5.41537143e-02 -6.56908890e-03\n",
      " -2.51227226e-02 -7.68014714e-02 -1.90815166e-01  1.80262439e-02\n",
      " -4.60263836e-04  8.67061540e-02  1.21606849e-01  6.00732975e-02\n",
      " -7.06622824e-02  2.15601474e-01 -1.30755037e-01 -2.00855602e-02\n",
      "  1.22534521e-01 -2.90668439e-02 -8.41066688e-02 -6.79546073e-02\n",
      "  2.76580779e-03  9.32932571e-02  1.65727749e-01  4.69799154e-02\n",
      "  1.07493207e-01 -3.10783484e-03  8.62179920e-02 -8.53033066e-02\n",
      "  4.54992019e-02 -1.73214138e-01  8.64435509e-02 -2.17773560e-02\n",
      "  9.63815972e-02 -1.63320694e-02 -9.42728892e-02 -1.89045984e-02\n",
      " -1.27663195e-01  1.61809679e-02 -5.90417907e-02  6.06213287e-02\n",
      "  3.82144786e-02 -1.13552973e-01  6.62773028e-02  6.79922849e-03\n",
      " -1.14935143e-02 -2.33286113e-01  9.04198065e-02  6.42751828e-02\n",
      "  1.07311122e-01  6.85909912e-02 -2.14895234e-01 -2.75979005e-02\n",
      "  1.50582343e-01  6.19372949e-02  5.92193827e-02 -1.97169650e-02\n",
      "  1.22081801e-01  9.35487896e-02  2.09285930e-01 -7.03616068e-02\n",
      " -1.14067696e-01  1.67806163e-01  1.48611948e-01  8.82275105e-02\n",
      "  1.09932669e-01  3.08078360e-02 -2.29211718e-01 -1.47552162e-01\n",
      "  3.17283273e-02 -1.60631433e-01  4.85641398e-02 -2.68197600e-02\n",
      "  4.57894839e-02  5.79022430e-02  1.40790567e-01  1.92672104e-01\n",
      " -1.06392398e-01 -1.19839124e-01  1.43668046e-02 -1.29084270e-02\n",
      "  1.35063352e-02  3.04573596e-01  2.25839660e-01 -4.54175510e-02\n",
      " -2.98268758e-02 -1.24176776e+00  6.03003912e-02 -9.61258933e-02\n",
      "  3.80853005e-02  2.71554757e-02 -1.63024098e-01 -9.37514454e-02\n",
      " -2.03136466e-02 -3.51135880e-02 -1.18408218e-01 -4.12371159e-02\n",
      " -8.65216926e-02  1.59236893e-01 -6.00704290e-02  1.18129246e-01\n",
      "  1.19822383e-01  1.19830340e-01 -1.93447750e-02 -3.46300155e-02\n",
      "  7.09190220e-02 -2.06501722e-01 -3.27868797e-02  5.35993390e-02\n",
      "  1.13416530e-01  1.15354873e-01 -8.91160145e-02 -4.04252075e-02\n",
      "  3.85298580e-02  1.53227806e-01 -2.13373303e-02  3.85715514e-02\n",
      "  4.13964279e-02 -4.23668809e-02 -2.52289325e-03  9.94020030e-02\n",
      "  5.56948304e-04 -1.02207050e-01  1.05797872e-01 -2.53870457e-01\n",
      "  3.56689468e-02  5.52285537e-02  1.70193419e-01  9.20740440e-02\n",
      " -2.53016055e-01 -2.08779313e-02  1.36748284e-01 -1.06868990e-01\n",
      "  6.14143237e-02  4.98601645e-02  1.68477744e-01 -4.59842868e-02\n",
      "  4.73828427e-02 -2.67205723e-02 -8.50399397e-03 -1.97874773e-02\n",
      " -1.07465602e-01 -4.30812943e-04  8.65005888e-03  2.26110026e-01\n",
      " -7.03297332e-02  4.85536270e-03  6.90556020e-02  6.51839897e-02\n",
      "  1.49883386e-02 -7.52461031e-02 -6.79735914e-02 -2.40963936e-01\n",
      " -1.03552602e-02  7.62331858e-02 -1.39825001e-01  2.27785245e-01\n",
      " -8.81102495e-03  4.15786542e-03  9.82729048e-02  1.11656860e-01\n",
      "  7.94511065e-02 -2.18787462e-01  2.02207223e-01  9.78914499e-02\n",
      "  8.27671736e-02 -3.45070586e-02  1.68020040e-01  1.49445534e-01\n",
      " -1.97219640e-01  3.30188796e-02 -1.34852543e-01  5.47356978e-02\n",
      "  3.93942520e-02  7.27554411e-02  9.13384780e-02 -4.73320484e-02\n",
      "  1.99705809e-01 -9.01984498e-02 -3.24994847e-02  1.40682748e-02\n",
      " -4.56142686e-02 -7.47042373e-02 -1.74676165e-01 -2.81477809e-01\n",
      "  7.90949687e-02  5.87768964e-02 -9.66951773e-02  2.63104904e-02\n",
      " -1.68605167e-02  7.67163932e-02  1.24416716e-01  1.23683184e-01\n",
      " -1.33663854e-02  2.84336179e-01  4.99999896e-02 -3.52460407e-02\n",
      "  3.15576121e-02  3.95880006e-02 -8.96566920e-03 -3.56327966e-02\n",
      " -7.63025656e-02  5.87799214e-02 -3.02976817e-01  8.61829799e-03\n",
      " -5.47031686e-02  2.36405998e-01 -4.96449843e-02  5.95057011e-02\n",
      "  2.57739723e-02  1.21498339e-01 -2.63014678e-02 -6.77348860e-03\n",
      "  8.44766274e-02 -6.74657822e-02 -2.99090426e-02  9.53157153e-03\n",
      "  8.91341045e-02  1.63946047e-01 -1.69783577e-01  1.93302706e-03\n",
      "  1.04039965e+01 -1.00023560e-01  4.98700403e-02 -8.91552493e-02\n",
      " -1.66418210e-01 -2.61926595e-02  2.84946822e-02 -9.91684869e-02\n",
      " -1.09497599e-01  1.28449991e-01 -2.20735986e-02  8.08203444e-02\n",
      " -1.64731339e-01 -2.28130035e-02  5.91950342e-02  1.52191013e-01\n",
      "  2.57190373e-02  5.75142214e-03  7.37629682e-02  1.20548703e-01\n",
      " -1.80009622e-02  6.20611757e-03  5.14629558e-02  8.33623588e-01\n",
      " -1.68290928e-01  1.19977817e-01 -3.98575291e-02  1.61946073e-01\n",
      " -5.29342219e-02 -1.06276922e-01  2.38868687e-02 -9.40843970e-02\n",
      "  6.83425665e-02  8.00241455e-02  9.24098715e-02  2.69112796e-01\n",
      "  8.02630126e-01  5.68013042e-02 -9.44968313e-02 -1.59097105e-01\n",
      "  2.56840158e-02 -3.32922302e-02  5.89651754e-03  1.64852083e-01\n",
      "  4.06996980e-02  8.50072950e-02  2.08150461e-01  2.52336841e-02\n",
      "  1.12336576e-02  1.08181842e-01  1.47999853e-01 -4.55022976e-02\n",
      " -1.41832694e-01  2.47831699e-02 -3.66377980e-02  1.22324238e-02\n",
      "  3.30382735e-02  1.07235357e-01  6.73831115e-03 -4.10442919e-01\n",
      " -3.68212238e-02  2.02717111e-01 -6.62207827e-02  9.66186151e-02\n",
      "  1.12433314e-01 -5.60690798e-02  1.17328741e-01  1.86064973e-01\n",
      " -3.55517477e-01 -2.11168066e-01  1.01330526e-01 -1.42212048e-01\n",
      " -1.38822630e-01  1.56321138e-01  1.09289370e-01  4.21641245e-02\n",
      " -2.36740634e-02 -8.82388726e-02  6.35942295e-02  7.51756206e-02\n",
      "  2.57076435e-02 -1.98428053e-02  5.50914789e-03 -8.65913555e-02\n",
      "  2.28898481e-01  8.69588628e-02  6.22864673e-03 -6.96963519e-02\n",
      " -1.48893118e-01  1.33398995e-01 -7.18193352e-02  4.04933584e-04\n",
      "  1.20239456e-04  7.04162894e-03  1.55503927e-02  9.52097401e-02\n",
      " -1.35692470e-02  1.22901099e-02  1.36091515e-01  1.87941551e-01\n",
      " -2.78972797e-02 -1.82978645e-01  1.27439285e-02  1.10318668e-01\n",
      "  1.71345860e-01  1.89258996e-02  4.68520857e-02 -5.51464036e-02\n",
      "  2.48578548e-01  9.53345820e-02 -1.65839046e-01 -3.88096385e-02\n",
      " -7.28352219e-02  9.19691175e-02 -1.83433861e-01 -9.10883211e-03\n",
      "  3.92739363e-02  3.06239240e-02  2.25594323e-02 -1.00023709e-01\n",
      " -8.82068723e-02 -9.17058811e-02 -9.04101357e-02  1.25064075e-01\n",
      "  1.34570509e-01  5.09197153e-02  1.15692534e-01  1.10236369e-01\n",
      " -1.75032262e-02 -1.17400484e-02 -4.77800295e-02  4.46845293e-02\n",
      "  1.14001311e-01  7.09841354e-03 -6.99341819e-02  1.50891803e-02\n",
      " -9.14093386e-03  1.51606537e-02  2.90157825e-01 -2.82082185e-02\n",
      " -3.49694975e-02  4.80735525e-02  2.71713566e-02 -1.25034511e-01\n",
      " -1.53406769e-01 -1.51290357e-01 -3.33240069e-02  3.90091538e-02\n",
      "  4.53694575e-02  1.23474620e-01 -5.62136769e-02 -4.96135019e-02\n",
      "  4.81831059e-02 -1.59438610e-01  1.75710637e-02  4.40217461e-03\n",
      " -5.15227504e-02  1.51489154e-01  1.22479707e-01 -3.30165401e-02\n",
      "  7.89508075e-02 -1.33859134e+00  5.99106960e-02  1.02173664e-01\n",
      " -4.43604112e-01 -1.29921064e-01  9.88488435e-04 -1.88457444e-02\n",
      " -2.35963147e-02  1.41338781e-01  1.41785473e-01  7.25669190e-02\n",
      "  2.46382970e-02  1.27108485e-01  8.36423114e-02  1.82306632e-01\n",
      "  1.02506384e-01  2.08100244e-01  6.99857399e-02  7.13160113e-02]\n"
     ]
    }
   ],
   "source": [
    "output = model.encode(data['sql_sentence'].tolist()[0])\n",
    "print(output)"
   ]
  },
  {
   "cell_type": "code",
   "execution_count": 39,
   "metadata": {
    "id": "PMm7Dpwdf29R"
   },
   "outputs": [],
   "source": [
    "input = tokenizer(data['sql_sentence'].tolist()[0], return_tensors=\"pt\", padding=True).to(device)\n",
    "output = model.encode(data['sql_sentence'].tolist()[0])\n",
    "outputs = torch.from_numpy(output)\n",
    "outputs = outputs.unsqueeze(0)\n",
    "\n",
    "for i in range(1, len(data)):\n",
    "    output = model.encode(data['sql_sentence'].tolist()[i])\n",
    "    output = torch.from_numpy(output)\n",
    "    output = output.unsqueeze(0)\n",
    "    outputs = torch.cat((outputs, output), 0)"
   ]
  },
  {
   "cell_type": "code",
   "execution_count": 40,
   "metadata": {
    "colab": {
     "base_uri": "https://localhost:8080/"
    },
    "id": "lexomKSvdBB_",
    "outputId": "d69b57c7-62b0-4986-c014-758f5330a0c9"
   },
   "outputs": [
    {
     "data": {
      "text/plain": [
       "torch.Size([2000, 768])"
      ]
     },
     "execution_count": 40,
     "metadata": {},
     "output_type": "execute_result"
    }
   ],
   "source": [
    "outputs.shape"
   ]
  },
  {
   "cell_type": "code",
   "execution_count": 41,
   "metadata": {},
   "outputs": [
    {
     "data": {
      "text/plain": [
       "(2000, 2)"
      ]
     },
     "execution_count": 41,
     "metadata": {},
     "output_type": "execute_result"
    }
   ],
   "source": [
    "from sklearn.manifold import TSNE\n",
    "\n",
    "n_components = 2\n",
    "tsne = TSNE(n_components)\n",
    "tsne_result = tsne.fit_transform(outputs)\n",
    "tsne_result.shape"
   ]
  },
  {
   "cell_type": "code",
   "execution_count": 61,
   "metadata": {},
   "outputs": [
    {
     "data": {
      "text/plain": [
       "(2000,)"
      ]
     },
     "execution_count": 61,
     "metadata": {},
     "output_type": "execute_result"
    }
   ],
   "source": [
    "data['sqli'].values.shape"
   ]
  },
  {
   "cell_type": "code",
   "execution_count": 64,
   "metadata": {},
   "outputs": [
    {
     "data": {
      "text/plain": [
       "<matplotlib.legend.Legend at 0x29986fa00>"
      ]
     },
     "execution_count": 64,
     "metadata": {},
     "output_type": "execute_result"
    },
    {
     "data": {
      "image/png": "[encoded data removed]",
      "text/plain": [
       "<Figure size 1500x1500 with 1 Axes>"
      ]
     },
     "metadata": {},
     "output_type": "display_data"
    }
   ],
   "source": [
    "# Plot the result of our TSNE with the label color coded\n",
    "# A lot of the stuff here is about making the plot look pretty and not TSNE\n",
    "tsne_result_df = pd.DataFrame({'tsne_1': tsne_result[:,0], 'tsne_2': tsne_result[:,1], 'sqli': data['sqli'].values})\n",
    "fig, ax = plt.subplots(1, figsize=(15, 15))\n",
    "\n",
    "sns.scatterplot(x='tsne_1', y='tsne_2', hue='sqli', label='sql injection', data=tsne_result_df, ax=ax,s=20)\n",
    "lim = (tsne_result.min()-5, tsne_result.max()+5)\n",
    "ax.set_xlim(lim)\n",
    "\n",
    "ax.set_aspect('equal')\n",
    "ax.legend(bbox_to_anchor=(1.05, 1), loc=2, borderaxespad=0.0)"
   ]
  },
  {
   "cell_type": "code",
   "execution_count": null,
   "metadata": {
    "id": "F1pAj-gKl2_A"
   },
   "outputs": [],
   "source": [
    "%%capture\n",
    "pip install tensorboard"
   ]
  },
  {
   "cell_type": "code",
   "execution_count": null,
   "metadata": {
    "colab": {
     "base_uri": "https://localhost:8080/"
    },
    "id": "TKjXnQMJ7GMe",
    "outputId": "1085fce4-6710-40e7-c1a7-3adbf1c25c08"
   },
   "outputs": [
    {
     "name": "stdout",
     "output_type": "stream",
     "text": [
      "\u001b[33mWARNING: Skipping tensorflow as it is not installed.\u001b[0m\n"
     ]
    }
   ],
   "source": [
    "!pip uninstall tensorflow"
   ]
  },
  {
   "cell_type": "code",
   "execution_count": null,
   "metadata": {
    "id": "kZYSsSdSlSap"
   },
   "outputs": [],
   "source": [
    "from torch.utils.tensorboard import SummaryWriter\n",
    "\n",
    "writer = SummaryWriter()\n",
    "writer.add_embedding(outputs, metadata=data['is_sql'].tolist())"
   ]
  }
 ],
 "metadata": {
  "accelerator": "GPU",
  "colab": {
   "collapsed_sections": [],
   "name": "SQL_embeddings (1).ipynb",
   "provenance": []
  },
  "kernelspec": {
   "display_name": "oppe4rl",
   "language": "python",
   "name": "python3"
  },
  "language_info": {
   "codemirror_mode": {
    "name": "ipython",
    "version": 3
   },
   "file_extension": ".py",
   "mimetype": "text/x-python",
   "name": "python",
   "nbconvert_exporter": "python",
   "pygments_lexer": "ipython3",
   "version": "3.10.8"
  },
  "widgets": {
   "application/vnd.jupyter.widget-state+json": {
    "0093c50ec7b64cc8b5976fde9ddf5b32": {
     "model_module": "@jupyter-widgets/base",
     "model_name": "LayoutModel",
     "state": {
      "_model_module": "@jupyter-widgets/base",
      "_model_module_version": "1.2.0",
      "_model_name": "LayoutModel",
      "_view_count": null,
      "_view_module": "@jupyter-widgets/base",
      "_view_module_version": "1.2.0",
      "_view_name": "LayoutView",
      "align_content": null,
      "align_items": null,
      "align_self": null,
      "border": null,
      "bottom": null,
      "display": null,
      "flex": null,
      "flex_flow": null,
      "grid_area": null,
      "grid_auto_columns": null,
      "grid_auto_flow": null,
      "grid_auto_rows": null,
      "grid_column": null,
      "grid_gap": null,
      "grid_row": null,
      "grid_template_areas": null,
      "grid_template_columns": null,
      "grid_template_rows": null,
      "height": null,
      "justify_content": null,
      "justify_items": null,
      "left": null,
      "margin": null,
      "max_height": null,
      "max_width": null,
      "min_height": null,
      "min_width": null,
      "object_fit": null,
      "object_position": null,
      "order": null,
      "overflow": null,
      "overflow_x": null,
      "overflow_y": null,
      "padding": null,
      "right": null,
      "top": null,
      "visibility": null,
      "width": null
     }
    },
    "0295edde49254f218c1d25376736348e": {
     "model_module": "@jupyter-widgets/controls",
     "model_name": "ProgressStyleModel",
     "state": {
      "_model_module": "@jupyter-widgets/controls",
      "_model_module_version": "1.5.0",
      "_model_name": "ProgressStyleModel",
      "_view_count": null,
      "_view_module": "@jupyter-widgets/base",
      "_view_module_version": "1.2.0",
      "_view_name": "StyleView",
      "bar_color": null,
      "description_width": "initial"
     }
    },
    "0868580c52444bdcba78fb66ee0cf5f0": {
     "model_module": "@jupyter-widgets/controls",
     "model_name": "HTMLModel",
     "state": {
      "_dom_classes": [],
      "_model_module": "@jupyter-widgets/controls",
      "_model_module_version": "1.5.0",
      "_model_name": "HTMLModel",
      "_view_count": null,
      "_view_module": "@jupyter-widgets/controls",
      "_view_module_version": "1.5.0",
      "_view_name": "HTMLView",
      "description": "",
      "description_tooltip": null,
      "layout": "IPY_MODEL_676604cb7f6b4dcdbddffef69f6d05ee",
      "placeholder": "​",
      "style": "IPY_MODEL_597e5dde09bf4ec4aad226f8b505a119",
      "value": " 6.64k/? [00:07&lt;00:00, 903B/s]"
     }
    },
    "0f7c4d2908e34cd78275c5b0c07620b1": {
     "model_module": "@jupyter-widgets/controls",
     "model_name": "HBoxModel",
     "state": {
      "_dom_classes": [],
      "_model_module": "@jupyter-widgets/controls",
      "_model_module_version": "1.5.0",
      "_model_name": "HBoxModel",
      "_view_count": null,
      "_view_module": "@jupyter-widgets/controls",
      "_view_module_version": "1.5.0",
      "_view_name": "HBoxView",
      "box_style": "",
      "children": [
       "IPY_MODEL_184b697a45bb412eacffde6028685682",
       "IPY_MODEL_3b5b240060da4bc791f530972a04c4e8"
      ],
      "layout": "IPY_MODEL_5c415b7bbb9a42cdbbd378e637a03ab2"
     }
    },
    "10e8d65f70654a8a984ef4c3d5853652": {
     "model_module": "@jupyter-widgets/base",
     "model_name": "LayoutModel",
     "state": {
      "_model_module": "@jupyter-widgets/base",
      "_model_module_version": "1.2.0",
      "_model_name": "LayoutModel",
      "_view_count": null,
      "_view_module": "@jupyter-widgets/base",
      "_view_module_version": "1.2.0",
      "_view_name": "LayoutView",
      "align_content": null,
      "align_items": null,
      "align_self": null,
      "border": null,
      "bottom": null,
      "display": null,
      "flex": null,
      "flex_flow": null,
      "grid_area": null,
      "grid_auto_columns": null,
      "grid_auto_flow": null,
      "grid_auto_rows": null,
      "grid_column": null,
      "grid_gap": null,
      "grid_row": null,
      "grid_template_areas": null,
      "grid_template_columns": null,
      "grid_template_rows": null,
      "height": null,
      "justify_content": null,
      "justify_items": null,
      "left": null,
      "margin": null,
      "max_height": null,
      "max_width": null,
      "min_height": null,
      "min_width": null,
      "object_fit": null,
      "object_position": null,
      "order": null,
      "overflow": null,
      "overflow_x": null,
      "overflow_y": null,
      "padding": null,
      "right": null,
      "top": null,
      "visibility": null,
      "width": null
     }
    },
    "184b697a45bb412eacffde6028685682": {
     "model_module": "@jupyter-widgets/controls",
     "model_name": "FloatProgressModel",
     "state": {
      "_dom_classes": [],
      "_model_module": "@jupyter-widgets/controls",
      "_model_module_version": "1.5.0",
      "_model_name": "FloatProgressModel",
      "_view_count": null,
      "_view_module": "@jupyter-widgets/controls",
      "_view_module_version": "1.5.0",
      "_view_name": "ProgressView",
      "bar_style": "info",
      "description": "",
      "description_tooltip": null,
      "layout": "IPY_MODEL_d7d949d6bc044887b9571a10579c82a8",
      "max": 1,
      "min": 0,
      "orientation": "horizontal",
      "style": "IPY_MODEL_afefa2a1711347a3ac6ac51375ca2815",
      "value": 1
     }
    },
    "18b6e8bcf62a4bf0998660167723fd52": {
     "model_module": "@jupyter-widgets/base",
     "model_name": "LayoutModel",
     "state": {
      "_model_module": "@jupyter-widgets/base",
      "_model_module_version": "1.2.0",
      "_model_name": "LayoutModel",
      "_view_count": null,
      "_view_module": "@jupyter-widgets/base",
      "_view_module_version": "1.2.0",
      "_view_name": "LayoutView",
      "align_content": null,
      "align_items": null,
      "align_self": null,
      "border": null,
      "bottom": null,
      "display": null,
      "flex": null,
      "flex_flow": null,
      "grid_area": null,
      "grid_auto_columns": null,
      "grid_auto_flow": null,
      "grid_auto_rows": null,
      "grid_column": null,
      "grid_gap": null,
      "grid_row": null,
      "grid_template_areas": null,
      "grid_template_columns": null,
      "grid_template_rows": null,
      "height": null,
      "justify_content": null,
      "justify_items": null,
      "left": null,
      "margin": null,
      "max_height": null,
      "max_width": null,
      "min_height": null,
      "min_width": null,
      "object_fit": null,
      "object_position": null,
      "order": null,
      "overflow": null,
      "overflow_x": null,
      "overflow_y": null,
      "padding": null,
      "right": null,
      "top": null,
      "visibility": null,
      "width": null
     }
    },
    "1bbac0d601fe46a29baeda12223a2405": {
     "model_module": "@jupyter-widgets/controls",
     "model_name": "FloatProgressModel",
     "state": {
      "_dom_classes": [],
      "_model_module": "@jupyter-widgets/controls",
      "_model_module_version": "1.5.0",
      "_model_name": "FloatProgressModel",
      "_view_count": null,
      "_view_module": "@jupyter-widgets/controls",
      "_view_module_version": "1.5.0",
      "_view_name": "ProgressView",
      "bar_style": "success",
      "description": "Downloading: ",
      "description_tooltip": null,
      "layout": "IPY_MODEL_0093c50ec7b64cc8b5976fde9ddf5b32",
      "max": 1893,
      "min": 0,
      "orientation": "horizontal",
      "style": "IPY_MODEL_0295edde49254f218c1d25376736348e",
      "value": 1893
     }
    },
    "1c3b0fd541264271a0a531809e22a528": {
     "model_module": "@jupyter-widgets/base",
     "model_name": "LayoutModel",
     "state": {
      "_model_module": "@jupyter-widgets/base",
      "_model_module_version": "1.2.0",
      "_model_name": "LayoutModel",
      "_view_count": null,
      "_view_module": "@jupyter-widgets/base",
      "_view_module_version": "1.2.0",
      "_view_name": "LayoutView",
      "align_content": null,
      "align_items": null,
      "align_self": null,
      "border": null,
      "bottom": null,
      "display": null,
      "flex": null,
      "flex_flow": null,
      "grid_area": null,
      "grid_auto_columns": null,
      "grid_auto_flow": null,
      "grid_auto_rows": null,
      "grid_column": null,
      "grid_gap": null,
      "grid_row": null,
      "grid_template_areas": null,
      "grid_template_columns": null,
      "grid_template_rows": null,
      "height": null,
      "justify_content": null,
      "justify_items": null,
      "left": null,
      "margin": null,
      "max_height": null,
      "max_width": null,
      "min_height": null,
      "min_width": null,
      "object_fit": null,
      "object_position": null,
      "order": null,
      "overflow": null,
      "overflow_x": null,
      "overflow_y": null,
      "padding": null,
      "right": null,
      "top": null,
      "visibility": null,
      "width": null
     }
    },
    "22d30397b4f648c2b8f1628cba1a6001": {
     "model_module": "@jupyter-widgets/controls",
     "model_name": "DescriptionStyleModel",
     "state": {
      "_model_module": "@jupyter-widgets/controls",
      "_model_module_version": "1.5.0",
      "_model_name": "DescriptionStyleModel",
      "_view_count": null,
      "_view_module": "@jupyter-widgets/base",
      "_view_module_version": "1.2.0",
      "_view_name": "StyleView",
      "description_width": ""
     }
    },
    "298fe78d185f4b13850a3b646274ff91": {
     "model_module": "@jupyter-widgets/base",
     "model_name": "LayoutModel",
     "state": {
      "_model_module": "@jupyter-widgets/base",
      "_model_module_version": "1.2.0",
      "_model_name": "LayoutModel",
      "_view_count": null,
      "_view_module": "@jupyter-widgets/base",
      "_view_module_version": "1.2.0",
      "_view_name": "LayoutView",
      "align_content": null,
      "align_items": null,
      "align_self": null,
      "border": null,
      "bottom": null,
      "display": null,
      "flex": null,
      "flex_flow": null,
      "grid_area": null,
      "grid_auto_columns": null,
      "grid_auto_flow": null,
      "grid_auto_rows": null,
      "grid_column": null,
      "grid_gap": null,
      "grid_row": null,
      "grid_template_areas": null,
      "grid_template_columns": null,
      "grid_template_rows": null,
      "height": null,
      "justify_content": null,
      "justify_items": null,
      "left": null,
      "margin": null,
      "max_height": null,
      "max_width": null,
      "min_height": null,
      "min_width": null,
      "object_fit": null,
      "object_position": null,
      "order": null,
      "overflow": null,
      "overflow_x": null,
      "overflow_y": null,
      "padding": null,
      "right": null,
      "top": null,
      "visibility": null,
      "width": null
     }
    },
    "2f02f8c2400d4b67b3a070535353ed34": {
     "model_module": "@jupyter-widgets/controls",
     "model_name": "HBoxModel",
     "state": {
      "_dom_classes": [],
      "_model_module": "@jupyter-widgets/controls",
      "_model_module_version": "1.5.0",
      "_model_name": "HBoxModel",
      "_view_count": null,
      "_view_module": "@jupyter-widgets/controls",
      "_view_module_version": "1.5.0",
      "_view_name": "HBoxView",
      "box_style": "",
      "children": [
       "IPY_MODEL_1bbac0d601fe46a29baeda12223a2405",
       "IPY_MODEL_0868580c52444bdcba78fb66ee0cf5f0"
      ],
      "layout": "IPY_MODEL_a4b9aa53d00c42e2a062f11b89cc2a31"
     }
    },
    "2fead3f109b64409b336997f955da23d": {
     "model_module": "@jupyter-widgets/base",
     "model_name": "LayoutModel",
     "state": {
      "_model_module": "@jupyter-widgets/base",
      "_model_module_version": "1.2.0",
      "_model_name": "LayoutModel",
      "_view_count": null,
      "_view_module": "@jupyter-widgets/base",
      "_view_module_version": "1.2.0",
      "_view_name": "LayoutView",
      "align_content": null,
      "align_items": null,
      "align_self": null,
      "border": null,
      "bottom": null,
      "display": null,
      "flex": null,
      "flex_flow": null,
      "grid_area": null,
      "grid_auto_columns": null,
      "grid_auto_flow": null,
      "grid_auto_rows": null,
      "grid_column": null,
      "grid_gap": null,
      "grid_row": null,
      "grid_template_areas": null,
      "grid_template_columns": null,
      "grid_template_rows": null,
      "height": null,
      "justify_content": null,
      "justify_items": null,
      "left": null,
      "margin": null,
      "max_height": null,
      "max_width": null,
      "min_height": null,
      "min_width": null,
      "object_fit": null,
      "object_position": null,
      "order": null,
      "overflow": null,
      "overflow_x": null,
      "overflow_y": null,
      "padding": null,
      "right": null,
      "top": null,
      "visibility": null,
      "width": null
     }
    },
    "3b5b240060da4bc791f530972a04c4e8": {
     "model_module": "@jupyter-widgets/controls",
     "model_name": "HTMLModel",
     "state": {
      "_dom_classes": [],
      "_model_module": "@jupyter-widgets/controls",
      "_model_module_version": "1.5.0",
      "_model_name": "HTMLModel",
      "_view_count": null,
      "_view_module": "@jupyter-widgets/controls",
      "_view_module_version": "1.5.0",
      "_view_name": "HTMLView",
      "description": "",
      "description_tooltip": null,
      "layout": "IPY_MODEL_c290bbfecbaa477ab0343a98d68a34a4",
      "placeholder": "​",
      "style": "IPY_MODEL_7dba7e97fc78484790626441ae36163a",
      "value": " 56355/0 [00:27&lt;00:00, 2494.67 examples/s]"
     }
    },
    "521414147b074f739ef5cf7d50798266": {
     "model_module": "@jupyter-widgets/controls",
     "model_name": "ProgressStyleModel",
     "state": {
      "_model_module": "@jupyter-widgets/controls",
      "_model_module_version": "1.5.0",
      "_model_name": "ProgressStyleModel",
      "_view_count": null,
      "_view_module": "@jupyter-widgets/base",
      "_view_module_version": "1.2.0",
      "_view_name": "StyleView",
      "bar_color": null,
      "description_width": "initial"
     }
    },
    "55497f5503a3490797776a96f55eddf1": {
     "model_module": "@jupyter-widgets/base",
     "model_name": "LayoutModel",
     "state": {
      "_model_module": "@jupyter-widgets/base",
      "_model_module_version": "1.2.0",
      "_model_name": "LayoutModel",
      "_view_count": null,
      "_view_module": "@jupyter-widgets/base",
      "_view_module_version": "1.2.0",
      "_view_name": "LayoutView",
      "align_content": null,
      "align_items": null,
      "align_self": null,
      "border": null,
      "bottom": null,
      "display": null,
      "flex": null,
      "flex_flow": null,
      "grid_area": null,
      "grid_auto_columns": null,
      "grid_auto_flow": null,
      "grid_auto_rows": null,
      "grid_column": null,
      "grid_gap": null,
      "grid_row": null,
      "grid_template_areas": null,
      "grid_template_columns": null,
      "grid_template_rows": null,
      "height": null,
      "justify_content": null,
      "justify_items": null,
      "left": null,
      "margin": null,
      "max_height": null,
      "max_width": null,
      "min_height": null,
      "min_width": null,
      "object_fit": null,
      "object_position": null,
      "order": null,
      "overflow": null,
      "overflow_x": null,
      "overflow_y": null,
      "padding": null,
      "right": null,
      "top": null,
      "visibility": null,
      "width": null
     }
    },
    "56b3569bae8c4081a08f916c7627f0f3": {
     "model_module": "@jupyter-widgets/controls",
     "model_name": "HBoxModel",
     "state": {
      "_dom_classes": [],
      "_model_module": "@jupyter-widgets/controls",
      "_model_module_version": "1.5.0",
      "_model_name": "HBoxModel",
      "_view_count": null,
      "_view_module": "@jupyter-widgets/controls",
      "_view_module_version": "1.5.0",
      "_view_name": "HBoxView",
      "box_style": "",
      "children": [
       "IPY_MODEL_a35d4376283c4005976bf1e96bacc7a8",
       "IPY_MODEL_ea18aaa92b5540b9bdc0927e8eb70593"
      ],
      "layout": "IPY_MODEL_2fead3f109b64409b336997f955da23d"
     }
    },
    "597e5dde09bf4ec4aad226f8b505a119": {
     "model_module": "@jupyter-widgets/controls",
     "model_name": "DescriptionStyleModel",
     "state": {
      "_model_module": "@jupyter-widgets/controls",
      "_model_module_version": "1.5.0",
      "_model_name": "DescriptionStyleModel",
      "_view_count": null,
      "_view_module": "@jupyter-widgets/base",
      "_view_module_version": "1.2.0",
      "_view_name": "StyleView",
      "description_width": ""
     }
    },
    "5c415b7bbb9a42cdbbd378e637a03ab2": {
     "model_module": "@jupyter-widgets/base",
     "model_name": "LayoutModel",
     "state": {
      "_model_module": "@jupyter-widgets/base",
      "_model_module_version": "1.2.0",
      "_model_name": "LayoutModel",
      "_view_count": null,
      "_view_module": "@jupyter-widgets/base",
      "_view_module_version": "1.2.0",
      "_view_name": "LayoutView",
      "align_content": null,
      "align_items": null,
      "align_self": null,
      "border": null,
      "bottom": null,
      "display": null,
      "flex": null,
      "flex_flow": null,
      "grid_area": null,
      "grid_auto_columns": null,
      "grid_auto_flow": null,
      "grid_auto_rows": null,
      "grid_column": null,
      "grid_gap": null,
      "grid_row": null,
      "grid_template_areas": null,
      "grid_template_columns": null,
      "grid_template_rows": null,
      "height": null,
      "justify_content": null,
      "justify_items": null,
      "left": null,
      "margin": null,
      "max_height": null,
      "max_width": null,
      "min_height": null,
      "min_width": null,
      "object_fit": null,
      "object_position": null,
      "order": null,
      "overflow": null,
      "overflow_x": null,
      "overflow_y": null,
      "padding": null,
      "right": null,
      "top": null,
      "visibility": null,
      "width": null
     }
    },
    "5dc0eea7332649189acdb1cc813545bc": {
     "model_module": "@jupyter-widgets/controls",
     "model_name": "DescriptionStyleModel",
     "state": {
      "_model_module": "@jupyter-widgets/controls",
      "_model_module_version": "1.5.0",
      "_model_name": "DescriptionStyleModel",
      "_view_count": null,
      "_view_module": "@jupyter-widgets/base",
      "_view_module_version": "1.2.0",
      "_view_name": "StyleView",
      "description_width": ""
     }
    },
    "635c4b80ef544613b80d8831464e6aa0": {
     "model_module": "@jupyter-widgets/controls",
     "model_name": "HBoxModel",
     "state": {
      "_dom_classes": [],
      "_model_module": "@jupyter-widgets/controls",
      "_model_module_version": "1.5.0",
      "_model_name": "HBoxModel",
      "_view_count": null,
      "_view_module": "@jupyter-widgets/controls",
      "_view_module_version": "1.5.0",
      "_view_name": "HBoxView",
      "box_style": "",
      "children": [
       "IPY_MODEL_ad4490bd5358422b92732ea8899a005c",
       "IPY_MODEL_d92d63e1954b4ee9a11c7fd806215f26"
      ],
      "layout": "IPY_MODEL_e7bc394b011043099bf0b1213d2777b3"
     }
    },
    "676604cb7f6b4dcdbddffef69f6d05ee": {
     "model_module": "@jupyter-widgets/base",
     "model_name": "LayoutModel",
     "state": {
      "_model_module": "@jupyter-widgets/base",
      "_model_module_version": "1.2.0",
      "_model_name": "LayoutModel",
      "_view_count": null,
      "_view_module": "@jupyter-widgets/base",
      "_view_module_version": "1.2.0",
      "_view_name": "LayoutView",
      "align_content": null,
      "align_items": null,
      "align_self": null,
      "border": null,
      "bottom": null,
      "display": null,
      "flex": null,
      "flex_flow": null,
      "grid_area": null,
      "grid_auto_columns": null,
      "grid_auto_flow": null,
      "grid_auto_rows": null,
      "grid_column": null,
      "grid_gap": null,
      "grid_row": null,
      "grid_template_areas": null,
      "grid_template_columns": null,
      "grid_template_rows": null,
      "height": null,
      "justify_content": null,
      "justify_items": null,
      "left": null,
      "margin": null,
      "max_height": null,
      "max_width": null,
      "min_height": null,
      "min_width": null,
      "object_fit": null,
      "object_position": null,
      "order": null,
      "overflow": null,
      "overflow_x": null,
      "overflow_y": null,
      "padding": null,
      "right": null,
      "top": null,
      "visibility": null,
      "width": null
     }
    },
    "7215d0b887004735a2623a60900cab57": {
     "model_module": "@jupyter-widgets/base",
     "model_name": "LayoutModel",
     "state": {
      "_model_module": "@jupyter-widgets/base",
      "_model_module_version": "1.2.0",
      "_model_name": "LayoutModel",
      "_view_count": null,
      "_view_module": "@jupyter-widgets/base",
      "_view_module_version": "1.2.0",
      "_view_name": "LayoutView",
      "align_content": null,
      "align_items": null,
      "align_self": null,
      "border": null,
      "bottom": null,
      "display": null,
      "flex": null,
      "flex_flow": null,
      "grid_area": null,
      "grid_auto_columns": null,
      "grid_auto_flow": null,
      "grid_auto_rows": null,
      "grid_column": null,
      "grid_gap": null,
      "grid_row": null,
      "grid_template_areas": null,
      "grid_template_columns": null,
      "grid_template_rows": null,
      "height": null,
      "justify_content": null,
      "justify_items": null,
      "left": null,
      "margin": null,
      "max_height": null,
      "max_width": null,
      "min_height": null,
      "min_width": null,
      "object_fit": null,
      "object_position": null,
      "order": null,
      "overflow": null,
      "overflow_x": null,
      "overflow_y": null,
      "padding": null,
      "right": null,
      "top": null,
      "visibility": null,
      "width": null
     }
    },
    "7dba7e97fc78484790626441ae36163a": {
     "model_module": "@jupyter-widgets/controls",
     "model_name": "DescriptionStyleModel",
     "state": {
      "_model_module": "@jupyter-widgets/controls",
      "_model_module_version": "1.5.0",
      "_model_name": "DescriptionStyleModel",
      "_view_count": null,
      "_view_module": "@jupyter-widgets/base",
      "_view_module_version": "1.2.0",
      "_view_name": "StyleView",
      "description_width": ""
     }
    },
    "80d1644c5c704aafb138ee5d093bdb6e": {
     "model_module": "@jupyter-widgets/controls",
     "model_name": "DescriptionStyleModel",
     "state": {
      "_model_module": "@jupyter-widgets/controls",
      "_model_module_version": "1.5.0",
      "_model_name": "DescriptionStyleModel",
      "_view_count": null,
      "_view_module": "@jupyter-widgets/base",
      "_view_module_version": "1.2.0",
      "_view_name": "StyleView",
      "description_width": ""
     }
    },
    "82b49a34cec84458b7ec6454ad0fd565": {
     "model_module": "@jupyter-widgets/controls",
     "model_name": "HTMLModel",
     "state": {
      "_dom_classes": [],
      "_model_module": "@jupyter-widgets/controls",
      "_model_module_version": "1.5.0",
      "_model_name": "HTMLModel",
      "_view_count": null,
      "_view_module": "@jupyter-widgets/controls",
      "_view_module_version": "1.5.0",
      "_view_name": "HTMLView",
      "description": "",
      "description_tooltip": null,
      "layout": "IPY_MODEL_298fe78d185f4b13850a3b646274ff91",
      "placeholder": "​",
      "style": "IPY_MODEL_80d1644c5c704aafb138ee5d093bdb6e",
      "value": " 8421/0 [00:03&lt;00:00, 2467.58 examples/s]"
     }
    },
    "8b3e50b67cab4665831b9f45559021ac": {
     "model_module": "@jupyter-widgets/controls",
     "model_name": "ProgressStyleModel",
     "state": {
      "_model_module": "@jupyter-widgets/controls",
      "_model_module_version": "1.5.0",
      "_model_name": "ProgressStyleModel",
      "_view_count": null,
      "_view_module": "@jupyter-widgets/base",
      "_view_module_version": "1.2.0",
      "_view_name": "StyleView",
      "bar_color": null,
      "description_width": "initial"
     }
    },
    "93c85cf8f65548b185e7808cdb138ba9": {
     "model_module": "@jupyter-widgets/base",
     "model_name": "LayoutModel",
     "state": {
      "_model_module": "@jupyter-widgets/base",
      "_model_module_version": "1.2.0",
      "_model_name": "LayoutModel",
      "_view_count": null,
      "_view_module": "@jupyter-widgets/base",
      "_view_module_version": "1.2.0",
      "_view_name": "LayoutView",
      "align_content": null,
      "align_items": null,
      "align_self": null,
      "border": null,
      "bottom": null,
      "display": null,
      "flex": null,
      "flex_flow": null,
      "grid_area": null,
      "grid_auto_columns": null,
      "grid_auto_flow": null,
      "grid_auto_rows": null,
      "grid_column": null,
      "grid_gap": null,
      "grid_row": null,
      "grid_template_areas": null,
      "grid_template_columns": null,
      "grid_template_rows": null,
      "height": null,
      "justify_content": null,
      "justify_items": null,
      "left": null,
      "margin": null,
      "max_height": null,
      "max_width": null,
      "min_height": null,
      "min_width": null,
      "object_fit": null,
      "object_position": null,
      "order": null,
      "overflow": null,
      "overflow_x": null,
      "overflow_y": null,
      "padding": null,
      "right": null,
      "top": null,
      "visibility": null,
      "width": null
     }
    },
    "a35d4376283c4005976bf1e96bacc7a8": {
     "model_module": "@jupyter-widgets/controls",
     "model_name": "FloatProgressModel",
     "state": {
      "_dom_classes": [],
      "_model_module": "@jupyter-widgets/controls",
      "_model_module_version": "1.5.0",
      "_model_name": "FloatProgressModel",
      "_view_count": null,
      "_view_module": "@jupyter-widgets/controls",
      "_view_module_version": "1.5.0",
      "_view_name": "ProgressView",
      "bar_style": "success",
      "description": "Downloading: 100%",
      "description_tooltip": null,
      "layout": "IPY_MODEL_cb42a4a721cc47d480fb173ca0823bba",
      "max": 26164664,
      "min": 0,
      "orientation": "horizontal",
      "style": "IPY_MODEL_8b3e50b67cab4665831b9f45559021ac",
      "value": 26164664
     }
    },
    "a44ac7ce0075441ba505e365bde3b7d4": {
     "model_module": "@jupyter-widgets/controls",
     "model_name": "FloatProgressModel",
     "state": {
      "_dom_classes": [],
      "_model_module": "@jupyter-widgets/controls",
      "_model_module_version": "1.5.0",
      "_model_name": "FloatProgressModel",
      "_view_count": null,
      "_view_module": "@jupyter-widgets/controls",
      "_view_module_version": "1.5.0",
      "_view_name": "ProgressView",
      "bar_style": "info",
      "description": "",
      "description_tooltip": null,
      "layout": "IPY_MODEL_e599570f54e44b5cb6b62ad8c47a9555",
      "max": 1,
      "min": 0,
      "orientation": "horizontal",
      "style": "IPY_MODEL_e4e686ebaaf24c2cb6fb51a46739d56c",
      "value": 1
     }
    },
    "a4b9aa53d00c42e2a062f11b89cc2a31": {
     "model_module": "@jupyter-widgets/base",
     "model_name": "LayoutModel",
     "state": {
      "_model_module": "@jupyter-widgets/base",
      "_model_module_version": "1.2.0",
      "_model_name": "LayoutModel",
      "_view_count": null,
      "_view_module": "@jupyter-widgets/base",
      "_view_module_version": "1.2.0",
      "_view_name": "LayoutView",
      "align_content": null,
      "align_items": null,
      "align_self": null,
      "border": null,
      "bottom": null,
      "display": null,
      "flex": null,
      "flex_flow": null,
      "grid_area": null,
      "grid_auto_columns": null,
      "grid_auto_flow": null,
      "grid_auto_rows": null,
      "grid_column": null,
      "grid_gap": null,
      "grid_row": null,
      "grid_template_areas": null,
      "grid_template_columns": null,
      "grid_template_rows": null,
      "height": null,
      "justify_content": null,
      "justify_items": null,
      "left": null,
      "margin": null,
      "max_height": null,
      "max_width": null,
      "min_height": null,
      "min_width": null,
      "object_fit": null,
      "object_position": null,
      "order": null,
      "overflow": null,
      "overflow_x": null,
      "overflow_y": null,
      "padding": null,
      "right": null,
      "top": null,
      "visibility": null,
      "width": null
     }
    },
    "ad4490bd5358422b92732ea8899a005c": {
     "model_module": "@jupyter-widgets/controls",
     "model_name": "FloatProgressModel",
     "state": {
      "_dom_classes": [],
      "_model_module": "@jupyter-widgets/controls",
      "_model_module_version": "1.5.0",
      "_model_name": "FloatProgressModel",
      "_view_count": null,
      "_view_module": "@jupyter-widgets/controls",
      "_view_module_version": "1.5.0",
      "_view_name": "ProgressView",
      "bar_style": "success",
      "description": "Downloading: ",
      "description_tooltip": null,
      "layout": "IPY_MODEL_55497f5503a3490797776a96f55eddf1",
      "max": 875,
      "min": 0,
      "orientation": "horizontal",
      "style": "IPY_MODEL_ba68154e387f4417b683c836592d55ab",
      "value": 875
     }
    },
    "afefa2a1711347a3ac6ac51375ca2815": {
     "model_module": "@jupyter-widgets/controls",
     "model_name": "ProgressStyleModel",
     "state": {
      "_model_module": "@jupyter-widgets/controls",
      "_model_module_version": "1.5.0",
      "_model_name": "ProgressStyleModel",
      "_view_count": null,
      "_view_module": "@jupyter-widgets/base",
      "_view_module_version": "1.2.0",
      "_view_name": "StyleView",
      "bar_color": null,
      "description_width": "initial"
     }
    },
    "b86f0bf6fee3428785e6129251fbe06d": {
     "model_module": "@jupyter-widgets/controls",
     "model_name": "HBoxModel",
     "state": {
      "_dom_classes": [],
      "_model_module": "@jupyter-widgets/controls",
      "_model_module_version": "1.5.0",
      "_model_name": "HBoxModel",
      "_view_count": null,
      "_view_module": "@jupyter-widgets/controls",
      "_view_module_version": "1.5.0",
      "_view_name": "HBoxView",
      "box_style": "",
      "children": [
       "IPY_MODEL_bee6b33fbad04439be376820f9e6dd9f",
       "IPY_MODEL_82b49a34cec84458b7ec6454ad0fd565"
      ],
      "layout": "IPY_MODEL_93c85cf8f65548b185e7808cdb138ba9"
     }
    },
    "ba68154e387f4417b683c836592d55ab": {
     "model_module": "@jupyter-widgets/controls",
     "model_name": "ProgressStyleModel",
     "state": {
      "_model_module": "@jupyter-widgets/controls",
      "_model_module_version": "1.5.0",
      "_model_name": "ProgressStyleModel",
      "_view_count": null,
      "_view_module": "@jupyter-widgets/base",
      "_view_module_version": "1.2.0",
      "_view_name": "StyleView",
      "bar_color": null,
      "description_width": "initial"
     }
    },
    "bee6b33fbad04439be376820f9e6dd9f": {
     "model_module": "@jupyter-widgets/controls",
     "model_name": "FloatProgressModel",
     "state": {
      "_dom_classes": [],
      "_model_module": "@jupyter-widgets/controls",
      "_model_module_version": "1.5.0",
      "_model_name": "FloatProgressModel",
      "_view_count": null,
      "_view_module": "@jupyter-widgets/controls",
      "_view_module_version": "1.5.0",
      "_view_name": "ProgressView",
      "bar_style": "info",
      "description": "",
      "description_tooltip": null,
      "layout": "IPY_MODEL_7215d0b887004735a2623a60900cab57",
      "max": 1,
      "min": 0,
      "orientation": "horizontal",
      "style": "IPY_MODEL_521414147b074f739ef5cf7d50798266",
      "value": 1
     }
    },
    "c11f23bf333840cc830ffe5c2d45a221": {
     "model_module": "@jupyter-widgets/base",
     "model_name": "LayoutModel",
     "state": {
      "_model_module": "@jupyter-widgets/base",
      "_model_module_version": "1.2.0",
      "_model_name": "LayoutModel",
      "_view_count": null,
      "_view_module": "@jupyter-widgets/base",
      "_view_module_version": "1.2.0",
      "_view_name": "LayoutView",
      "align_content": null,
      "align_items": null,
      "align_self": null,
      "border": null,
      "bottom": null,
      "display": null,
      "flex": null,
      "flex_flow": null,
      "grid_area": null,
      "grid_auto_columns": null,
      "grid_auto_flow": null,
      "grid_auto_rows": null,
      "grid_column": null,
      "grid_gap": null,
      "grid_row": null,
      "grid_template_areas": null,
      "grid_template_columns": null,
      "grid_template_rows": null,
      "height": null,
      "justify_content": null,
      "justify_items": null,
      "left": null,
      "margin": null,
      "max_height": null,
      "max_width": null,
      "min_height": null,
      "min_width": null,
      "object_fit": null,
      "object_position": null,
      "order": null,
      "overflow": null,
      "overflow_x": null,
      "overflow_y": null,
      "padding": null,
      "right": null,
      "top": null,
      "visibility": null,
      "width": null
     }
    },
    "c15143e86e764d26ad728d6422f12029": {
     "model_module": "@jupyter-widgets/controls",
     "model_name": "DescriptionStyleModel",
     "state": {
      "_model_module": "@jupyter-widgets/controls",
      "_model_module_version": "1.5.0",
      "_model_name": "DescriptionStyleModel",
      "_view_count": null,
      "_view_module": "@jupyter-widgets/base",
      "_view_module_version": "1.2.0",
      "_view_name": "StyleView",
      "description_width": ""
     }
    },
    "c175d88dcf154b22af2fdbec57bf439a": {
     "model_module": "@jupyter-widgets/controls",
     "model_name": "HBoxModel",
     "state": {
      "_dom_classes": [],
      "_model_module": "@jupyter-widgets/controls",
      "_model_module_version": "1.5.0",
      "_model_name": "HBoxModel",
      "_view_count": null,
      "_view_module": "@jupyter-widgets/controls",
      "_view_module_version": "1.5.0",
      "_view_name": "HBoxView",
      "box_style": "",
      "children": [
       "IPY_MODEL_a44ac7ce0075441ba505e365bde3b7d4",
       "IPY_MODEL_f1144cdeab91426c8274edbceb484bd7"
      ],
      "layout": "IPY_MODEL_c11f23bf333840cc830ffe5c2d45a221"
     }
    },
    "c290bbfecbaa477ab0343a98d68a34a4": {
     "model_module": "@jupyter-widgets/base",
     "model_name": "LayoutModel",
     "state": {
      "_model_module": "@jupyter-widgets/base",
      "_model_module_version": "1.2.0",
      "_model_name": "LayoutModel",
      "_view_count": null,
      "_view_module": "@jupyter-widgets/base",
      "_view_module_version": "1.2.0",
      "_view_name": "LayoutView",
      "align_content": null,
      "align_items": null,
      "align_self": null,
      "border": null,
      "bottom": null,
      "display": null,
      "flex": null,
      "flex_flow": null,
      "grid_area": null,
      "grid_auto_columns": null,
      "grid_auto_flow": null,
      "grid_auto_rows": null,
      "grid_column": null,
      "grid_gap": null,
      "grid_row": null,
      "grid_template_areas": null,
      "grid_template_columns": null,
      "grid_template_rows": null,
      "height": null,
      "justify_content": null,
      "justify_items": null,
      "left": null,
      "margin": null,
      "max_height": null,
      "max_width": null,
      "min_height": null,
      "min_width": null,
      "object_fit": null,
      "object_position": null,
      "order": null,
      "overflow": null,
      "overflow_x": null,
      "overflow_y": null,
      "padding": null,
      "right": null,
      "top": null,
      "visibility": null,
      "width": null
     }
    },
    "cb42a4a721cc47d480fb173ca0823bba": {
     "model_module": "@jupyter-widgets/base",
     "model_name": "LayoutModel",
     "state": {
      "_model_module": "@jupyter-widgets/base",
      "_model_module_version": "1.2.0",
      "_model_name": "LayoutModel",
      "_view_count": null,
      "_view_module": "@jupyter-widgets/base",
      "_view_module_version": "1.2.0",
      "_view_name": "LayoutView",
      "align_content": null,
      "align_items": null,
      "align_self": null,
      "border": null,
      "bottom": null,
      "display": null,
      "flex": null,
      "flex_flow": null,
      "grid_area": null,
      "grid_auto_columns": null,
      "grid_auto_flow": null,
      "grid_auto_rows": null,
      "grid_column": null,
      "grid_gap": null,
      "grid_row": null,
      "grid_template_areas": null,
      "grid_template_columns": null,
      "grid_template_rows": null,
      "height": null,
      "justify_content": null,
      "justify_items": null,
      "left": null,
      "margin": null,
      "max_height": null,
      "max_width": null,
      "min_height": null,
      "min_width": null,
      "object_fit": null,
      "object_position": null,
      "order": null,
      "overflow": null,
      "overflow_x": null,
      "overflow_y": null,
      "padding": null,
      "right": null,
      "top": null,
      "visibility": null,
      "width": null
     }
    },
    "d7d949d6bc044887b9571a10579c82a8": {
     "model_module": "@jupyter-widgets/base",
     "model_name": "LayoutModel",
     "state": {
      "_model_module": "@jupyter-widgets/base",
      "_model_module_version": "1.2.0",
      "_model_name": "LayoutModel",
      "_view_count": null,
      "_view_module": "@jupyter-widgets/base",
      "_view_module_version": "1.2.0",
      "_view_name": "LayoutView",
      "align_content": null,
      "align_items": null,
      "align_self": null,
      "border": null,
      "bottom": null,
      "display": null,
      "flex": null,
      "flex_flow": null,
      "grid_area": null,
      "grid_auto_columns": null,
      "grid_auto_flow": null,
      "grid_auto_rows": null,
      "grid_column": null,
      "grid_gap": null,
      "grid_row": null,
      "grid_template_areas": null,
      "grid_template_columns": null,
      "grid_template_rows": null,
      "height": null,
      "justify_content": null,
      "justify_items": null,
      "left": null,
      "margin": null,
      "max_height": null,
      "max_width": null,
      "min_height": null,
      "min_width": null,
      "object_fit": null,
      "object_position": null,
      "order": null,
      "overflow": null,
      "overflow_x": null,
      "overflow_y": null,
      "padding": null,
      "right": null,
      "top": null,
      "visibility": null,
      "width": null
     }
    },
    "d92d63e1954b4ee9a11c7fd806215f26": {
     "model_module": "@jupyter-widgets/controls",
     "model_name": "HTMLModel",
     "state": {
      "_dom_classes": [],
      "_model_module": "@jupyter-widgets/controls",
      "_model_module_version": "1.5.0",
      "_model_name": "HTMLModel",
      "_view_count": null,
      "_view_module": "@jupyter-widgets/controls",
      "_view_module_version": "1.5.0",
      "_view_name": "HTMLView",
      "description": "",
      "description_tooltip": null,
      "layout": "IPY_MODEL_10e8d65f70654a8a984ef4c3d5853652",
      "placeholder": "​",
      "style": "IPY_MODEL_22d30397b4f648c2b8f1628cba1a6001",
      "value": " 2.76k/? [00:07&lt;00:00, 392B/s]"
     }
    },
    "e4e686ebaaf24c2cb6fb51a46739d56c": {
     "model_module": "@jupyter-widgets/controls",
     "model_name": "ProgressStyleModel",
     "state": {
      "_model_module": "@jupyter-widgets/controls",
      "_model_module_version": "1.5.0",
      "_model_name": "ProgressStyleModel",
      "_view_count": null,
      "_view_module": "@jupyter-widgets/base",
      "_view_module_version": "1.2.0",
      "_view_name": "StyleView",
      "bar_color": null,
      "description_width": "initial"
     }
    },
    "e599570f54e44b5cb6b62ad8c47a9555": {
     "model_module": "@jupyter-widgets/base",
     "model_name": "LayoutModel",
     "state": {
      "_model_module": "@jupyter-widgets/base",
      "_model_module_version": "1.2.0",
      "_model_name": "LayoutModel",
      "_view_count": null,
      "_view_module": "@jupyter-widgets/base",
      "_view_module_version": "1.2.0",
      "_view_name": "LayoutView",
      "align_content": null,
      "align_items": null,
      "align_self": null,
      "border": null,
      "bottom": null,
      "display": null,
      "flex": null,
      "flex_flow": null,
      "grid_area": null,
      "grid_auto_columns": null,
      "grid_auto_flow": null,
      "grid_auto_rows": null,
      "grid_column": null,
      "grid_gap": null,
      "grid_row": null,
      "grid_template_areas": null,
      "grid_template_columns": null,
      "grid_template_rows": null,
      "height": null,
      "justify_content": null,
      "justify_items": null,
      "left": null,
      "margin": null,
      "max_height": null,
      "max_width": null,
      "min_height": null,
      "min_width": null,
      "object_fit": null,
      "object_position": null,
      "order": null,
      "overflow": null,
      "overflow_x": null,
      "overflow_y": null,
      "padding": null,
      "right": null,
      "top": null,
      "visibility": null,
      "width": null
     }
    },
    "e7bc394b011043099bf0b1213d2777b3": {
     "model_module": "@jupyter-widgets/base",
     "model_name": "LayoutModel",
     "state": {
      "_model_module": "@jupyter-widgets/base",
      "_model_module_version": "1.2.0",
      "_model_name": "LayoutModel",
      "_view_count": null,
      "_view_module": "@jupyter-widgets/base",
      "_view_module_version": "1.2.0",
      "_view_name": "LayoutView",
      "align_content": null,
      "align_items": null,
      "align_self": null,
      "border": null,
      "bottom": null,
      "display": null,
      "flex": null,
      "flex_flow": null,
      "grid_area": null,
      "grid_auto_columns": null,
      "grid_auto_flow": null,
      "grid_auto_rows": null,
      "grid_column": null,
      "grid_gap": null,
      "grid_row": null,
      "grid_template_areas": null,
      "grid_template_columns": null,
      "grid_template_rows": null,
      "height": null,
      "justify_content": null,
      "justify_items": null,
      "left": null,
      "margin": null,
      "max_height": null,
      "max_width": null,
      "min_height": null,
      "min_width": null,
      "object_fit": null,
      "object_position": null,
      "order": null,
      "overflow": null,
      "overflow_x": null,
      "overflow_y": null,
      "padding": null,
      "right": null,
      "top": null,
      "visibility": null,
      "width": null
     }
    },
    "ea18aaa92b5540b9bdc0927e8eb70593": {
     "model_module": "@jupyter-widgets/controls",
     "model_name": "HTMLModel",
     "state": {
      "_dom_classes": [],
      "_model_module": "@jupyter-widgets/controls",
      "_model_module_version": "1.5.0",
      "_model_name": "HTMLModel",
      "_view_count": null,
      "_view_module": "@jupyter-widgets/controls",
      "_view_module_version": "1.5.0",
      "_view_name": "HTMLView",
      "description": "",
      "description_tooltip": null,
      "layout": "IPY_MODEL_18b6e8bcf62a4bf0998660167723fd52",
      "placeholder": "​",
      "style": "IPY_MODEL_c15143e86e764d26ad728d6422f12029",
      "value": " 26.2M/26.2M [00:04&lt;00:00, 5.27MB/s]"
     }
    },
    "f1144cdeab91426c8274edbceb484bd7": {
     "model_module": "@jupyter-widgets/controls",
     "model_name": "HTMLModel",
     "state": {
      "_dom_classes": [],
      "_model_module": "@jupyter-widgets/controls",
      "_model_module_version": "1.5.0",
      "_model_name": "HTMLModel",
      "_view_count": null,
      "_view_module": "@jupyter-widgets/controls",
      "_view_module_version": "1.5.0",
      "_view_name": "HTMLView",
      "description": "",
      "description_tooltip": null,
      "layout": "IPY_MODEL_1c3b0fd541264271a0a531809e22a528",
      "placeholder": "​",
      "style": "IPY_MODEL_5dc0eea7332649189acdb1cc813545bc",
      "value": " 15878/0 [00:12&lt;00:00, 2462.43 examples/s]"
     }
    }
   }
  }
 },
 "nbformat": 4,
 "nbformat_minor": 1
}
